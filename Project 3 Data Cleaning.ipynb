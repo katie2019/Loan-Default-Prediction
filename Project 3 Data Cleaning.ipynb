{
 "cells": [
  {
   "cell_type": "markdown",
   "metadata": {},
   "source": [
    "# **Project 3: Loan Default Prediction**\n",
    "# **Katie Fan**"
   ]
  },
  {
   "cell_type": "markdown",
   "metadata": {},
   "source": [
    "### **Index:**\n",
    "**1. Data Loading**\n",
    "\n",
    "**2. Data Cleaning**\n",
    "\n",
    "- 2.1. encode target vatiable to 0 and 1\n",
    "\n",
    "- 2.2. check data format\n",
    "\n",
    "- 2.3. check outliers\n",
    "    \n",
    "**3. Feature Selection**\n",
    "\n",
    "- 3.1. remove id columns\n",
    "\n",
    "- 3.2. remove future feature\n",
    "\n",
    "- 3.3. remove features that have missing ratio > 10%\n",
    "\n",
    "- 3.4. remove feature that are irrelevent or redundant \n",
    "- 3.5. remove statistically insignificant features by using Chi-Square test and Welch's t test\n",
    "\n",
    "- 3.6. remove highly correlated features(multicolinearity)\n",
    "\n",
    "**4. Feature Engineering**\n",
    "\n",
    "**5. Under Sampling**\n",
    "\n",
    "**6. Converting Categorical Features to Dummy Features**\n",
    "\n",
    "**7. Training Test Sets Spliting**\n",
    "\n",
    "**8. Standard Scaling and Missing Value Imputing**"
   ]
  },
  {
   "cell_type": "code",
   "execution_count": 1,
   "metadata": {},
   "outputs": [],
   "source": [
    "# import libs\n",
    "import pandas as pd\n",
    "import numpy as np\n",
    "import matplotlib.pyplot as plt\n",
    "%matplotlib inline\n",
    "import seaborn as sns\n",
    "import scipy\n",
    "import glob\n",
    "import os\n",
    "import csv\n",
    "from datetime import datetime\n",
    "import pickle\n",
    "from sklearn.model_selection import train_test_split\n",
    "from sklearn import metrics\n",
    "from sklearn.preprocessing import Imputer, StandardScaler\n",
    "from sklearn.linear_model import LogisticRegression\n",
    "from sklearn.metrics import accuracy_score\n",
    "from sklearn.feature_selection import RFE\n",
    "from sklearn.decomposition import PCA "
   ]
  },
  {
   "cell_type": "markdown",
   "metadata": {},
   "source": [
    "## **Data Loading**"
   ]
  },
  {
   "cell_type": "code",
   "execution_count": 2,
   "metadata": {},
   "outputs": [],
   "source": [
    "# data is donwloaded from https://www.lendingclub.com/info/download-data.action\n",
    "# total 16 files\n",
    "file_path = r'/Users/katiefan/Documents/loan_data' \n",
    "all_csv_files = glob.glob(file_path + \"/*.csv\")\n",
    "df_each = [pd.read_csv(file, low_memory=False, header=1) for file in all_csv_files]\n",
    "df_all_raw = pd.concat(df_each, ignore_index=True)"
   ]
  },
  {
   "cell_type": "code",
   "execution_count": 3,
   "metadata": {},
   "outputs": [
    {
     "data": {
      "text/plain": [
       "(2260701, 145)"
      ]
     },
     "execution_count": 3,
     "metadata": {},
     "output_type": "execute_result"
    }
   ],
   "source": [
    "df_all_raw.shape"
   ]
  },
  {
   "cell_type": "code",
   "execution_count": 4,
   "metadata": {},
   "outputs": [
    {
     "data": {
      "text/html": [
       "<div>\n",
       "<style scoped>\n",
       "    .dataframe tbody tr th:only-of-type {\n",
       "        vertical-align: middle;\n",
       "    }\n",
       "\n",
       "    .dataframe tbody tr th {\n",
       "        vertical-align: top;\n",
       "    }\n",
       "\n",
       "    .dataframe thead th {\n",
       "        text-align: right;\n",
       "    }\n",
       "</style>\n",
       "<table border=\"1\" class=\"dataframe\">\n",
       "  <thead>\n",
       "    <tr style=\"text-align: right;\">\n",
       "      <th></th>\n",
       "      <th>id</th>\n",
       "      <th>member_id</th>\n",
       "      <th>loan_amnt</th>\n",
       "      <th>funded_amnt</th>\n",
       "      <th>funded_amnt_inv</th>\n",
       "      <th>term</th>\n",
       "      <th>int_rate</th>\n",
       "      <th>installment</th>\n",
       "      <th>grade</th>\n",
       "      <th>sub_grade</th>\n",
       "      <th>...</th>\n",
       "      <th>hardship_payoff_balance_amount</th>\n",
       "      <th>hardship_last_payment_amount</th>\n",
       "      <th>disbursement_method</th>\n",
       "      <th>debt_settlement_flag</th>\n",
       "      <th>debt_settlement_flag_date</th>\n",
       "      <th>settlement_status</th>\n",
       "      <th>settlement_date</th>\n",
       "      <th>settlement_amount</th>\n",
       "      <th>settlement_percentage</th>\n",
       "      <th>settlement_term</th>\n",
       "    </tr>\n",
       "  </thead>\n",
       "  <tbody>\n",
       "    <tr>\n",
       "      <th>0</th>\n",
       "      <td>NaN</td>\n",
       "      <td>NaN</td>\n",
       "      <td>10000.0</td>\n",
       "      <td>10000.0</td>\n",
       "      <td>10000.0</td>\n",
       "      <td>36 months</td>\n",
       "      <td>10.33%</td>\n",
       "      <td>324.23</td>\n",
       "      <td>B</td>\n",
       "      <td>B1</td>\n",
       "      <td>...</td>\n",
       "      <td>NaN</td>\n",
       "      <td>NaN</td>\n",
       "      <td>DirectPay</td>\n",
       "      <td>N</td>\n",
       "      <td>NaN</td>\n",
       "      <td>NaN</td>\n",
       "      <td>NaN</td>\n",
       "      <td>NaN</td>\n",
       "      <td>NaN</td>\n",
       "      <td>NaN</td>\n",
       "    </tr>\n",
       "    <tr>\n",
       "      <th>1</th>\n",
       "      <td>NaN</td>\n",
       "      <td>NaN</td>\n",
       "      <td>2500.0</td>\n",
       "      <td>2500.0</td>\n",
       "      <td>2500.0</td>\n",
       "      <td>36 months</td>\n",
       "      <td>13.56%</td>\n",
       "      <td>84.92</td>\n",
       "      <td>C</td>\n",
       "      <td>C1</td>\n",
       "      <td>...</td>\n",
       "      <td>NaN</td>\n",
       "      <td>NaN</td>\n",
       "      <td>Cash</td>\n",
       "      <td>N</td>\n",
       "      <td>NaN</td>\n",
       "      <td>NaN</td>\n",
       "      <td>NaN</td>\n",
       "      <td>NaN</td>\n",
       "      <td>NaN</td>\n",
       "      <td>NaN</td>\n",
       "    </tr>\n",
       "  </tbody>\n",
       "</table>\n",
       "<p>2 rows × 145 columns</p>\n",
       "</div>"
      ],
      "text/plain": [
       "    id  member_id  loan_amnt  funded_amnt  funded_amnt_inv        term  \\\n",
       "0  NaN        NaN    10000.0      10000.0          10000.0   36 months   \n",
       "1  NaN        NaN     2500.0       2500.0           2500.0   36 months   \n",
       "\n",
       "  int_rate  installment grade sub_grade       ...        \\\n",
       "0   10.33%       324.23     B        B1       ...         \n",
       "1   13.56%        84.92     C        C1       ...         \n",
       "\n",
       "  hardship_payoff_balance_amount hardship_last_payment_amount  \\\n",
       "0                            NaN                          NaN   \n",
       "1                            NaN                          NaN   \n",
       "\n",
       "  disbursement_method  debt_settlement_flag debt_settlement_flag_date  \\\n",
       "0           DirectPay                     N                       NaN   \n",
       "1                Cash                     N                       NaN   \n",
       "\n",
       "  settlement_status settlement_date settlement_amount  settlement_percentage  \\\n",
       "0               NaN             NaN               NaN                    NaN   \n",
       "1               NaN             NaN               NaN                    NaN   \n",
       "\n",
       "  settlement_term  \n",
       "0             NaN  \n",
       "1             NaN  \n",
       "\n",
       "[2 rows x 145 columns]"
      ]
     },
     "execution_count": 4,
     "metadata": {},
     "output_type": "execute_result"
    }
   ],
   "source": [
    "df_all_raw.head(2)"
   ]
  },
  {
   "cell_type": "markdown",
   "metadata": {},
   "source": [
    "## **Data Cleaning**"
   ]
  },
  {
   "cell_type": "markdown",
   "metadata": {},
   "source": [
    "### **1. encode target vatiable to 0 and 1**"
   ]
  },
  {
   "cell_type": "code",
   "execution_count": 5,
   "metadata": {},
   "outputs": [
    {
     "data": {
      "text/plain": [
       "Fully Paid                                             1076751\n",
       "Current                                                 878317\n",
       "Charged Off                                             268559\n",
       "Late (31-120 days)                                       21467\n",
       "In Grace Period                                           8436\n",
       "Late (16-30 days)                                         4349\n",
       "Does not meet the credit policy. Status:Fully Paid        1988\n",
       "Does not meet the credit policy. Status:Charged Off        761\n",
       "Default                                                     40\n",
       "Name: loan_status, dtype: int64"
      ]
     },
     "execution_count": 5,
     "metadata": {},
     "output_type": "execute_result"
    }
   ],
   "source": [
    "df_all_raw.loan_status.value_counts()"
   ]
  },
  {
   "cell_type": "code",
   "execution_count": 6,
   "metadata": {},
   "outputs": [],
   "source": [
    "# create a function to restrict analysis on fully paid loans and default loans (default,  loans)\n",
    "def get_status_bin(x):\n",
    "    if x == 'Fully Paid':\n",
    "        return 0\n",
    "    elif (x == 'Late (16-30 days)') | (x == 'Late (31-120 days)') | (x == 'Charged Off') | (x =='Default'):\n",
    "        return 1\n",
    "    else:\n",
    "        return 'not in scope'"
   ]
  },
  {
   "cell_type": "code",
   "execution_count": 7,
   "metadata": {},
   "outputs": [],
   "source": [
    "df_all_raw['loan_status_bin'] = df_all_raw['loan_status'].apply(get_status_bin)"
   ]
  },
  {
   "cell_type": "code",
   "execution_count": 8,
   "metadata": {},
   "outputs": [],
   "source": [
    "df_all_raw = df_all_raw.loc[df_all_raw['loan_status_bin'] != 'not in scope']"
   ]
  },
  {
   "cell_type": "code",
   "execution_count": 9,
   "metadata": {},
   "outputs": [
    {
     "data": {
      "text/plain": [
       "0    0.785281\n",
       "1    0.214719\n",
       "Name: loan_status_bin, dtype: float64"
      ]
     },
     "execution_count": 9,
     "metadata": {},
     "output_type": "execute_result"
    }
   ],
   "source": [
    "df_all_raw['loan_status_bin'].value_counts(normalize=True, dropna=False)"
   ]
  },
  {
   "cell_type": "code",
   "execution_count": 10,
   "metadata": {},
   "outputs": [
    {
     "data": {
      "text/plain": [
       "0    1076751\n",
       "1     294415\n",
       "Name: loan_status_bin, dtype: int64"
      ]
     },
     "execution_count": 10,
     "metadata": {},
     "output_type": "execute_result"
    }
   ],
   "source": [
    "df_all_raw.loan_status_bin.value_counts()"
   ]
  },
  {
   "cell_type": "code",
   "execution_count": 11,
   "metadata": {},
   "outputs": [],
   "source": [
    "df_all_raw.drop('loan_status', axis=1, inplace=True)"
   ]
  },
  {
   "cell_type": "code",
   "execution_count": 12,
   "metadata": {},
   "outputs": [
    {
     "data": {
      "image/png": "[encoded data removed]",
      "text/plain": [
       "<Figure size 432x288 with 1 Axes>"
      ]
     },
     "metadata": {
      "needs_background": "light"
     },
     "output_type": "display_data"
    }
   ],
   "source": [
    "df_all_raw.loan_status_bin.value_counts().plot(kind='bar', title='Loan Status')\n",
    "sns.despine();"
   ]
  },
  {
   "cell_type": "markdown",
   "metadata": {},
   "source": [
    "### **2. check data format**"
   ]
  },
  {
   "cell_type": "code",
   "execution_count": 13,
   "metadata": {},
   "outputs": [],
   "source": [
    "# convert interest rate and revol_util to numeric\n",
    "df_all_raw['int_rate'] = df_all_raw['int_rate'].str.replace(\"%\", \"\").str.replace(\" \", \"\").astype(float)\n",
    "df_all_raw['revol_util'] = df_all_raw['revol_util'].str.replace(\"%\", \"\").astype(float)"
   ]
  },
  {
   "cell_type": "markdown",
   "metadata": {},
   "source": [
    "### **3. check outliers**"
   ]
  },
  {
   "cell_type": "code",
   "execution_count": 14,
   "metadata": {},
   "outputs": [
    {
     "data": {
      "text/html": [
       "<div>\n",
       "<style scoped>\n",
       "    .dataframe tbody tr th:only-of-type {\n",
       "        vertical-align: middle;\n",
       "    }\n",
       "\n",
       "    .dataframe tbody tr th {\n",
       "        vertical-align: top;\n",
       "    }\n",
       "\n",
       "    .dataframe thead th {\n",
       "        text-align: right;\n",
       "    }\n",
       "</style>\n",
       "<table border=\"1\" class=\"dataframe\">\n",
       "  <thead>\n",
       "    <tr style=\"text-align: right;\">\n",
       "      <th></th>\n",
       "      <th>member_id</th>\n",
       "      <th>loan_amnt</th>\n",
       "      <th>funded_amnt</th>\n",
       "      <th>funded_amnt_inv</th>\n",
       "      <th>int_rate</th>\n",
       "      <th>installment</th>\n",
       "      <th>annual_inc</th>\n",
       "      <th>url</th>\n",
       "      <th>dti</th>\n",
       "      <th>delinq_2yrs</th>\n",
       "      <th>...</th>\n",
       "      <th>deferral_term</th>\n",
       "      <th>hardship_amount</th>\n",
       "      <th>hardship_length</th>\n",
       "      <th>hardship_dpd</th>\n",
       "      <th>orig_projected_additional_accrued_interest</th>\n",
       "      <th>hardship_payoff_balance_amount</th>\n",
       "      <th>hardship_last_payment_amount</th>\n",
       "      <th>settlement_amount</th>\n",
       "      <th>settlement_percentage</th>\n",
       "      <th>settlement_term</th>\n",
       "    </tr>\n",
       "  </thead>\n",
       "  <tbody>\n",
       "    <tr>\n",
       "      <th>count</th>\n",
       "      <td>0.0</td>\n",
       "      <td>1.371166e+06</td>\n",
       "      <td>1.371166e+06</td>\n",
       "      <td>1.371166e+06</td>\n",
       "      <td>1.371166e+06</td>\n",
       "      <td>1.371166e+06</td>\n",
       "      <td>1.371166e+06</td>\n",
       "      <td>0.0</td>\n",
       "      <td>1.370763e+06</td>\n",
       "      <td>1.371166e+06</td>\n",
       "      <td>...</td>\n",
       "      <td>7631.0</td>\n",
       "      <td>7631.00000</td>\n",
       "      <td>7631.0</td>\n",
       "      <td>7631.000000</td>\n",
       "      <td>5451.000000</td>\n",
       "      <td>7631.000000</td>\n",
       "      <td>7631.000000</td>\n",
       "      <td>34198.000000</td>\n",
       "      <td>34198.000000</td>\n",
       "      <td>34198.000000</td>\n",
       "    </tr>\n",
       "    <tr>\n",
       "      <th>mean</th>\n",
       "      <td>NaN</td>\n",
       "      <td>1.446895e+04</td>\n",
       "      <td>1.446069e+04</td>\n",
       "      <td>1.443861e+04</td>\n",
       "      <td>1.328413e+01</td>\n",
       "      <td>4.392885e+02</td>\n",
       "      <td>7.626933e+04</td>\n",
       "      <td>NaN</td>\n",
       "      <td>1.831588e+01</td>\n",
       "      <td>3.187083e-01</td>\n",
       "      <td>...</td>\n",
       "      <td>3.0</td>\n",
       "      <td>153.45325</td>\n",
       "      <td>3.0</td>\n",
       "      <td>14.515005</td>\n",
       "      <td>441.783528</td>\n",
       "      <td>11373.131381</td>\n",
       "      <td>192.631862</td>\n",
       "      <td>5009.942763</td>\n",
       "      <td>47.766837</td>\n",
       "      <td>13.194924</td>\n",
       "    </tr>\n",
       "    <tr>\n",
       "      <th>std</th>\n",
       "      <td>NaN</td>\n",
       "      <td>8.744235e+03</td>\n",
       "      <td>8.740435e+03</td>\n",
       "      <td>8.742821e+03</td>\n",
       "      <td>4.790524e+00</td>\n",
       "      <td>2.621785e+02</td>\n",
       "      <td>7.026729e+04</td>\n",
       "      <td>NaN</td>\n",
       "      <td>1.132719e+01</td>\n",
       "      <td>8.801374e-01</td>\n",
       "      <td>...</td>\n",
       "      <td>0.0</td>\n",
       "      <td>131.54247</td>\n",
       "      <td>0.0</td>\n",
       "      <td>9.451345</td>\n",
       "      <td>378.787841</td>\n",
       "      <td>7629.284695</td>\n",
       "      <td>198.198606</td>\n",
       "      <td>3689.934458</td>\n",
       "      <td>7.299424</td>\n",
       "      <td>8.161496</td>\n",
       "    </tr>\n",
       "    <tr>\n",
       "      <th>min</th>\n",
       "      <td>NaN</td>\n",
       "      <td>5.000000e+02</td>\n",
       "      <td>5.000000e+02</td>\n",
       "      <td>0.000000e+00</td>\n",
       "      <td>5.310000e+00</td>\n",
       "      <td>4.930000e+00</td>\n",
       "      <td>0.000000e+00</td>\n",
       "      <td>NaN</td>\n",
       "      <td>-1.000000e+00</td>\n",
       "      <td>0.000000e+00</td>\n",
       "      <td>...</td>\n",
       "      <td>3.0</td>\n",
       "      <td>0.64000</td>\n",
       "      <td>3.0</td>\n",
       "      <td>0.000000</td>\n",
       "      <td>1.920000</td>\n",
       "      <td>55.730000</td>\n",
       "      <td>0.010000</td>\n",
       "      <td>44.210000</td>\n",
       "      <td>0.200000</td>\n",
       "      <td>0.000000</td>\n",
       "    </tr>\n",
       "    <tr>\n",
       "      <th>25%</th>\n",
       "      <td>NaN</td>\n",
       "      <td>8.000000e+03</td>\n",
       "      <td>8.000000e+03</td>\n",
       "      <td>7.950000e+03</td>\n",
       "      <td>9.750000e+00</td>\n",
       "      <td>2.491900e+02</td>\n",
       "      <td>4.576000e+04</td>\n",
       "      <td>NaN</td>\n",
       "      <td>1.180000e+01</td>\n",
       "      <td>0.000000e+00</td>\n",
       "      <td>...</td>\n",
       "      <td>3.0</td>\n",
       "      <td>55.83000</td>\n",
       "      <td>3.0</td>\n",
       "      <td>7.000000</td>\n",
       "      <td>161.460000</td>\n",
       "      <td>5277.805000</td>\n",
       "      <td>45.255000</td>\n",
       "      <td>2208.370000</td>\n",
       "      <td>45.000000</td>\n",
       "      <td>6.000000</td>\n",
       "    </tr>\n",
       "    <tr>\n",
       "      <th>50%</th>\n",
       "      <td>NaN</td>\n",
       "      <td>1.200000e+04</td>\n",
       "      <td>1.200000e+04</td>\n",
       "      <td>1.200000e+04</td>\n",
       "      <td>1.279000e+01</td>\n",
       "      <td>3.754900e+02</td>\n",
       "      <td>6.500000e+04</td>\n",
       "      <td>NaN</td>\n",
       "      <td>1.763000e+01</td>\n",
       "      <td>0.000000e+00</td>\n",
       "      <td>...</td>\n",
       "      <td>3.0</td>\n",
       "      <td>114.74000</td>\n",
       "      <td>3.0</td>\n",
       "      <td>16.000000</td>\n",
       "      <td>330.990000</td>\n",
       "      <td>9659.450000</td>\n",
       "      <td>130.660000</td>\n",
       "      <td>4147.000000</td>\n",
       "      <td>45.000000</td>\n",
       "      <td>14.000000</td>\n",
       "    </tr>\n",
       "    <tr>\n",
       "      <th>75%</th>\n",
       "      <td>NaN</td>\n",
       "      <td>2.000000e+04</td>\n",
       "      <td>2.000000e+04</td>\n",
       "      <td>2.000000e+04</td>\n",
       "      <td>1.602000e+01</td>\n",
       "      <td>5.821700e+02</td>\n",
       "      <td>9.000000e+04</td>\n",
       "      <td>NaN</td>\n",
       "      <td>2.409000e+01</td>\n",
       "      <td>0.000000e+00</td>\n",
       "      <td>...</td>\n",
       "      <td>3.0</td>\n",
       "      <td>213.62000</td>\n",
       "      <td>3.0</td>\n",
       "      <td>23.000000</td>\n",
       "      <td>603.975000</td>\n",
       "      <td>15965.080000</td>\n",
       "      <td>280.230000</td>\n",
       "      <td>6850.320000</td>\n",
       "      <td>50.000000</td>\n",
       "      <td>18.000000</td>\n",
       "    </tr>\n",
       "    <tr>\n",
       "      <th>max</th>\n",
       "      <td>NaN</td>\n",
       "      <td>4.000000e+04</td>\n",
       "      <td>4.000000e+04</td>\n",
       "      <td>4.000000e+04</td>\n",
       "      <td>3.099000e+01</td>\n",
       "      <td>1.719830e+03</td>\n",
       "      <td>1.099920e+07</td>\n",
       "      <td>NaN</td>\n",
       "      <td>9.990000e+02</td>\n",
       "      <td>3.900000e+01</td>\n",
       "      <td>...</td>\n",
       "      <td>3.0</td>\n",
       "      <td>943.94000</td>\n",
       "      <td>3.0</td>\n",
       "      <td>37.000000</td>\n",
       "      <td>2679.150000</td>\n",
       "      <td>39542.450000</td>\n",
       "      <td>1407.860000</td>\n",
       "      <td>33601.000000</td>\n",
       "      <td>521.350000</td>\n",
       "      <td>181.000000</td>\n",
       "    </tr>\n",
       "  </tbody>\n",
       "</table>\n",
       "<p>8 rows × 108 columns</p>\n",
       "</div>"
      ],
      "text/plain": [
       "       member_id     loan_amnt   funded_amnt  funded_amnt_inv      int_rate  \\\n",
       "count        0.0  1.371166e+06  1.371166e+06     1.371166e+06  1.371166e+06   \n",
       "mean         NaN  1.446895e+04  1.446069e+04     1.443861e+04  1.328413e+01   \n",
       "std          NaN  8.744235e+03  8.740435e+03     8.742821e+03  4.790524e+00   \n",
       "min          NaN  5.000000e+02  5.000000e+02     0.000000e+00  5.310000e+00   \n",
       "25%          NaN  8.000000e+03  8.000000e+03     7.950000e+03  9.750000e+00   \n",
       "50%          NaN  1.200000e+04  1.200000e+04     1.200000e+04  1.279000e+01   \n",
       "75%          NaN  2.000000e+04  2.000000e+04     2.000000e+04  1.602000e+01   \n",
       "max          NaN  4.000000e+04  4.000000e+04     4.000000e+04  3.099000e+01   \n",
       "\n",
       "        installment    annual_inc  url           dti   delinq_2yrs  \\\n",
       "count  1.371166e+06  1.371166e+06  0.0  1.370763e+06  1.371166e+06   \n",
       "mean   4.392885e+02  7.626933e+04  NaN  1.831588e+01  3.187083e-01   \n",
       "std    2.621785e+02  7.026729e+04  NaN  1.132719e+01  8.801374e-01   \n",
       "min    4.930000e+00  0.000000e+00  NaN -1.000000e+00  0.000000e+00   \n",
       "25%    2.491900e+02  4.576000e+04  NaN  1.180000e+01  0.000000e+00   \n",
       "50%    3.754900e+02  6.500000e+04  NaN  1.763000e+01  0.000000e+00   \n",
       "75%    5.821700e+02  9.000000e+04  NaN  2.409000e+01  0.000000e+00   \n",
       "max    1.719830e+03  1.099920e+07  NaN  9.990000e+02  3.900000e+01   \n",
       "\n",
       "            ...         deferral_term  hardship_amount  hardship_length  \\\n",
       "count       ...                7631.0       7631.00000           7631.0   \n",
       "mean        ...                   3.0        153.45325              3.0   \n",
       "std         ...                   0.0        131.54247              0.0   \n",
       "min         ...                   3.0          0.64000              3.0   \n",
       "25%         ...                   3.0         55.83000              3.0   \n",
       "50%         ...                   3.0        114.74000              3.0   \n",
       "75%         ...                   3.0        213.62000              3.0   \n",
       "max         ...                   3.0        943.94000              3.0   \n",
       "\n",
       "       hardship_dpd  orig_projected_additional_accrued_interest  \\\n",
       "count   7631.000000                                 5451.000000   \n",
       "mean      14.515005                                  441.783528   \n",
       "std        9.451345                                  378.787841   \n",
       "min        0.000000                                    1.920000   \n",
       "25%        7.000000                                  161.460000   \n",
       "50%       16.000000                                  330.990000   \n",
       "75%       23.000000                                  603.975000   \n",
       "max       37.000000                                 2679.150000   \n",
       "\n",
       "       hardship_payoff_balance_amount  hardship_last_payment_amount  \\\n",
       "count                     7631.000000                   7631.000000   \n",
       "mean                     11373.131381                    192.631862   \n",
       "std                       7629.284695                    198.198606   \n",
       "min                         55.730000                      0.010000   \n",
       "25%                       5277.805000                     45.255000   \n",
       "50%                       9659.450000                    130.660000   \n",
       "75%                      15965.080000                    280.230000   \n",
       "max                      39542.450000                   1407.860000   \n",
       "\n",
       "       settlement_amount  settlement_percentage  settlement_term  \n",
       "count       34198.000000           34198.000000     34198.000000  \n",
       "mean         5009.942763              47.766837        13.194924  \n",
       "std          3689.934458               7.299424         8.161496  \n",
       "min            44.210000               0.200000         0.000000  \n",
       "25%          2208.370000              45.000000         6.000000  \n",
       "50%          4147.000000              45.000000        14.000000  \n",
       "75%          6850.320000              50.000000        18.000000  \n",
       "max         33601.000000             521.350000       181.000000  \n",
       "\n",
       "[8 rows x 108 columns]"
      ]
     },
     "execution_count": 14,
     "metadata": {},
     "output_type": "execute_result"
    }
   ],
   "source": [
    "df_all_raw.describe()"
   ]
  },
  {
   "cell_type": "code",
   "execution_count": 15,
   "metadata": {},
   "outputs": [
    {
     "data": {
      "text/plain": [
       "(1370761, 145)"
      ]
     },
     "execution_count": 15,
     "metadata": {},
     "output_type": "execute_result"
    }
   ],
   "source": [
    "df_all_raw = df_all_raw.loc[df_all_raw.dti>=0]\n",
    "df_all_raw.shape"
   ]
  },
  {
   "cell_type": "code",
   "execution_count": 16,
   "metadata": {},
   "outputs": [
    {
     "name": "stdout",
     "output_type": "stream",
     "text": [
      "mean: 76291.74148130925\n",
      "95% quantile: 155000.0\n",
      "99% quantile: 252000.0\n",
      "max: 10999200.0\n"
     ]
    }
   ],
   "source": [
    "print('mean:', df_all_raw.annual_inc.mean())\n",
    "print('95% quantile:', df_all_raw.annual_inc.quantile(0.95))\n",
    "print('99% quantile:', df_all_raw.annual_inc.quantile(0.99))\n",
    "print('max:', df_all_raw.annual_inc.max())"
   ]
  },
  {
   "cell_type": "code",
   "execution_count": 17,
   "metadata": {},
   "outputs": [
    {
     "data": {
      "text/plain": [
       "(1357093, 145)"
      ]
     },
     "execution_count": 17,
     "metadata": {},
     "output_type": "execute_result"
    }
   ],
   "source": [
    "df_all_raw = df_all_raw.loc[df_all_raw.annual_inc <= df_all_raw.annual_inc.quantile(0.99)]\n",
    "df_all_raw.shape"
   ]
  },
  {
   "cell_type": "code",
   "execution_count": 18,
   "metadata": {},
   "outputs": [],
   "source": [
    "# save csv\n",
    "df_all_raw.to_csv('prj3_df_all_raw.csv')"
   ]
  },
  {
   "cell_type": "code",
   "execution_count": 19,
   "metadata": {},
   "outputs": [],
   "source": [
    "# pickle the data\n",
    "df_all_raw.to_pickle('prj3_df_raw.pkl')"
   ]
  },
  {
   "cell_type": "code",
   "execution_count": 39,
   "metadata": {},
   "outputs": [],
   "source": [
    "df_all_raw = pd.read_pickle('prj3_df_raw.pkl')"
   ]
  },
  {
   "cell_type": "markdown",
   "metadata": {},
   "source": [
    "## **Feature Selection**"
   ]
  },
  {
   "cell_type": "markdown",
   "metadata": {},
   "source": [
    "### **1. remove unique ID columns**"
   ]
  },
  {
   "cell_type": "code",
   "execution_count": 20,
   "metadata": {},
   "outputs": [
    {
     "data": {
      "text/plain": [
       "(1357093, 143)"
      ]
     },
     "execution_count": 20,
     "metadata": {},
     "output_type": "execute_result"
    }
   ],
   "source": [
    "# Removing unique ID cols as they seem irrelevent with the analysis\n",
    "df_all = df_all_raw.drop(['id', 'member_id'], axis=1)\n",
    "df_all.shape"
   ]
  },
  {
   "cell_type": "markdown",
   "metadata": {},
   "source": [
    "### **2. remove features that have more than 10% of data missing**"
   ]
  },
  {
   "cell_type": "code",
   "execution_count": 21,
   "metadata": {},
   "outputs": [
    {
     "data": {
      "text/html": [
       "<div>\n",
       "<style scoped>\n",
       "    .dataframe tbody tr th:only-of-type {\n",
       "        vertical-align: middle;\n",
       "    }\n",
       "\n",
       "    .dataframe tbody tr th {\n",
       "        vertical-align: top;\n",
       "    }\n",
       "\n",
       "    .dataframe thead th {\n",
       "        text-align: right;\n",
       "    }\n",
       "</style>\n",
       "<table border=\"1\" class=\"dataframe\">\n",
       "  <thead>\n",
       "    <tr style=\"text-align: right;\">\n",
       "      <th></th>\n",
       "      <th>Feature</th>\n",
       "      <th>Missing_Ratio</th>\n",
       "    </tr>\n",
       "  </thead>\n",
       "  <tbody>\n",
       "    <tr>\n",
       "      <th>0</th>\n",
       "      <td>url</td>\n",
       "      <td>100.000000</td>\n",
       "    </tr>\n",
       "    <tr>\n",
       "      <th>1</th>\n",
       "      <td>orig_projected_additional_accrued_interest</td>\n",
       "      <td>99.602459</td>\n",
       "    </tr>\n",
       "    <tr>\n",
       "      <th>2</th>\n",
       "      <td>sec_app_mths_since_last_major_derog</td>\n",
       "      <td>99.445506</td>\n",
       "    </tr>\n",
       "    <tr>\n",
       "      <th>3</th>\n",
       "      <td>hardship_loan_status</td>\n",
       "      <td>99.443664</td>\n",
       "    </tr>\n",
       "    <tr>\n",
       "      <th>4</th>\n",
       "      <td>hardship_start_date</td>\n",
       "      <td>99.443664</td>\n",
       "    </tr>\n",
       "  </tbody>\n",
       "</table>\n",
       "</div>"
      ],
      "text/plain": [
       "                                      Feature  Missing_Ratio\n",
       "0                                         url     100.000000\n",
       "1  orig_projected_additional_accrued_interest      99.602459\n",
       "2         sec_app_mths_since_last_major_derog      99.445506\n",
       "3                        hardship_loan_status      99.443664\n",
       "4                         hardship_start_date      99.443664"
      ]
     },
     "execution_count": 21,
     "metadata": {},
     "output_type": "execute_result"
    }
   ],
   "source": [
    "# Check missing values\n",
    "all_data_na = (df_all.isnull().sum() / len(df_all)) * 100\n",
    "all_data_na = all_data_na.drop(all_data_na[all_data_na == 0].index).sort_values(ascending=False)\n",
    "missing_data = pd.DataFrame({'Missing_Ratio':all_data_na}).reset_index().rename(columns={'index': 'Feature'})\n",
    "missing_data.head()"
   ]
  },
  {
   "cell_type": "code",
   "execution_count": 22,
   "metadata": {},
   "outputs": [
    {
     "data": {
      "text/plain": [
       "(1357093, 86)"
      ]
     },
     "execution_count": 22,
     "metadata": {},
     "output_type": "execute_result"
    }
   ],
   "source": [
    "# Remove all the features that have more than 10% of data missing\n",
    "missing_list = missing_data.Feature[missing_data.Missing_Ratio >= 10].tolist()\n",
    "df_all.drop(missing_list, axis=1, inplace=True)\n",
    "df_all.shape"
   ]
  },
  {
   "cell_type": "code",
   "execution_count": 23,
   "metadata": {},
   "outputs": [
    {
     "name": "stdout",
     "output_type": "stream",
     "text": [
      "57 features have more than 50% of values missing\n"
     ]
    },
    {
     "data": {
      "text/plain": [
       "['url',\n",
       " 'orig_projected_additional_accrued_interest',\n",
       " 'sec_app_mths_since_last_major_derog',\n",
       " 'hardship_loan_status',\n",
       " 'hardship_start_date',\n",
       " 'hardship_end_date',\n",
       " 'payment_plan_start_date',\n",
       " 'hardship_length',\n",
       " 'hardship_dpd',\n",
       " 'hardship_amount',\n",
       " 'hardship_status',\n",
       " 'hardship_payoff_balance_amount',\n",
       " 'hardship_last_payment_amount',\n",
       " 'hardship_reason',\n",
       " 'hardship_type',\n",
       " 'deferral_term',\n",
       " 'sec_app_revol_util',\n",
       " 'revol_bal_joint',\n",
       " 'sec_app_collections_12_mths_ex_med',\n",
       " 'sec_app_chargeoff_within_12_mths',\n",
       " 'sec_app_num_rev_accts',\n",
       " 'sec_app_open_act_il',\n",
       " 'sec_app_open_acc',\n",
       " 'sec_app_mort_acc',\n",
       " 'sec_app_inq_last_6mths',\n",
       " 'sec_app_earliest_cr_line',\n",
       " 'next_pymnt_d',\n",
       " 'verification_status_joint',\n",
       " 'dti_joint',\n",
       " 'annual_inc_joint',\n",
       " 'settlement_percentage',\n",
       " 'settlement_term',\n",
       " 'debt_settlement_flag_date',\n",
       " 'settlement_status',\n",
       " 'settlement_date',\n",
       " 'settlement_amount',\n",
       " 'desc',\n",
       " 'mths_since_last_record',\n",
       " 'mths_since_recent_bc_dlq',\n",
       " 'mths_since_last_major_derog',\n",
       " 'mths_since_recent_revol_delinq',\n",
       " 'il_util',\n",
       " 'mths_since_rcnt_il',\n",
       " 'all_util',\n",
       " 'open_acc_6m',\n",
       " 'total_cu_tl',\n",
       " 'inq_last_12m',\n",
       " 'open_il_12m',\n",
       " 'open_il_24m',\n",
       " 'total_bal_il',\n",
       " 'open_rv_12m',\n",
       " 'open_rv_24m',\n",
       " 'max_bal_bc',\n",
       " 'open_act_il',\n",
       " 'inq_fi',\n",
       " 'mths_since_last_delinq',\n",
       " 'mths_since_recent_inq']"
      ]
     },
     "execution_count": 23,
     "metadata": {},
     "output_type": "execute_result"
    }
   ],
   "source": [
    "print(len(missing_list), 'features have more than 50% of values missing')\n",
    "missing_list"
   ]
  },
  {
   "cell_type": "markdown",
   "metadata": {},
   "source": [
    "### **3. remove future features**\n",
    "\n",
    "some features contain data about the loan’s future status which one doesn’t know about when allocating investments."
   ]
  },
  {
   "cell_type": "code",
   "execution_count": 24,
   "metadata": {},
   "outputs": [
    {
     "data": {
      "text/plain": [
       "(1357093, 60)"
      ]
     },
     "execution_count": 24,
     "metadata": {},
     "output_type": "execute_result"
    }
   ],
   "source": [
    "drop_list = ['issue_d','funded_amnt', 'funded_amnt_inv', 'initial_list_status','out_prncp','out_prncp_inv','total_pymnt','total_pymnt_inv','total_rec_prncp','total_rec_int','total_rec_late_fee','recoveries','collection_recovery_fee','last_pymnt_d','last_pymnt_amnt','collections_12_mths_ex_med','acc_now_delinq','tot_coll_amt','tot_cur_bal','acc_open_past_24mths','avg_cur_bal','chargeoff_within_12_mths','delinq_amnt','pct_tl_nvr_dlq','hardship_flag','debt_settlement_flag']\n",
    "df_all.drop(drop_list, axis=1, inplace=True)\n",
    "df_all.shape"
   ]
  },
  {
   "cell_type": "code",
   "execution_count": 25,
   "metadata": {},
   "outputs": [
    {
     "name": "stdout",
     "output_type": "stream",
     "text": [
      "<class 'pandas.core.frame.DataFrame'>\n",
      "Int64Index: 1357093 entries, 52 to 2260695\n",
      "Data columns (total 60 columns):\n",
      "loan_amnt                     1357093 non-null float64\n",
      "term                          1357093 non-null object\n",
      "int_rate                      1357093 non-null float64\n",
      "installment                   1357093 non-null float64\n",
      "grade                         1357093 non-null object\n",
      "sub_grade                     1357093 non-null object\n",
      "emp_title                     1269506 non-null object\n",
      "emp_length                    1276784 non-null object\n",
      "home_ownership                1357093 non-null object\n",
      "annual_inc                    1357093 non-null float64\n",
      "verification_status           1357093 non-null object\n",
      "pymnt_plan                    1357093 non-null object\n",
      "purpose                       1357093 non-null object\n",
      "title                         1340199 non-null object\n",
      "zip_code                      1357092 non-null object\n",
      "addr_state                    1357093 non-null object\n",
      "dti                           1357093 non-null float64\n",
      "delinq_2yrs                   1357093 non-null float64\n",
      "earliest_cr_line              1357093 non-null object\n",
      "inq_last_6mths                1357092 non-null float64\n",
      "open_acc                      1357093 non-null float64\n",
      "pub_rec                       1357093 non-null float64\n",
      "revol_bal                     1357093 non-null float64\n",
      "revol_util                    1356245 non-null float64\n",
      "total_acc                     1357093 non-null float64\n",
      "last_credit_pull_d            1357038 non-null object\n",
      "policy_code                   1357093 non-null float64\n",
      "application_type              1357093 non-null object\n",
      "total_rev_hi_lim              1290027 non-null float64\n",
      "bc_open_to_buy                1296044 non-null float64\n",
      "bc_util                       1295325 non-null float64\n",
      "mo_sin_old_il_acct            1251229 non-null float64\n",
      "mo_sin_old_rev_tl_op          1290026 non-null float64\n",
      "mo_sin_rcnt_rev_tl_op         1290026 non-null float64\n",
      "mo_sin_rcnt_tl                1290027 non-null float64\n",
      "mort_acc                      1310164 non-null float64\n",
      "mths_since_recent_bc          1296979 non-null float64\n",
      "num_accts_ever_120_pd         1290027 non-null float64\n",
      "num_actv_bc_tl                1290027 non-null float64\n",
      "num_actv_rev_tl               1290027 non-null float64\n",
      "num_bc_sats                   1301659 non-null float64\n",
      "num_bc_tl                     1290027 non-null float64\n",
      "num_il_tl                     1290027 non-null float64\n",
      "num_op_rev_tl                 1290027 non-null float64\n",
      "num_rev_accts                 1290026 non-null float64\n",
      "num_rev_tl_bal_gt_0           1290027 non-null float64\n",
      "num_sats                      1301659 non-null float64\n",
      "num_tl_120dpd_2m              1239460 non-null float64\n",
      "num_tl_30dpd                  1290027 non-null float64\n",
      "num_tl_90g_dpd_24m            1290027 non-null float64\n",
      "num_tl_op_past_12m            1290027 non-null float64\n",
      "percent_bc_gt_75              1295630 non-null float64\n",
      "pub_rec_bankruptcies          1356403 non-null float64\n",
      "tax_liens                     1357054 non-null float64\n",
      "tot_hi_cred_lim               1290027 non-null float64\n",
      "total_bal_ex_mort             1310164 non-null float64\n",
      "total_bc_limit                1310164 non-null float64\n",
      "total_il_high_credit_limit    1290027 non-null float64\n",
      "disbursement_method           1357093 non-null object\n",
      "loan_status_bin               1357093 non-null object\n",
      "dtypes: float64(43), object(17)\n",
      "memory usage: 631.6+ MB\n"
     ]
    }
   ],
   "source": [
    "df_all.info()"
   ]
  },
  {
   "cell_type": "markdown",
   "metadata": {},
   "source": [
    "### **4. remove features that are irrivelent or redundant**"
   ]
  },
  {
   "cell_type": "code",
   "execution_count": 26,
   "metadata": {},
   "outputs": [
    {
     "data": {
      "text/plain": [
       "(1357093, 30)"
      ]
     },
     "execution_count": 26,
     "metadata": {},
     "output_type": "execute_result"
    }
   ],
   "source": [
    "drop_col =['mo_sin_old_rev_tl_op','mo_sin_rcnt_rev_tl_op','mo_sin_rcnt_tl','total_rev_hi_lim','mths_since_recent_bc','num_accts_ever_120_pd','num_actv_bc_tl','num_actv_rev_tl','num_bc_sats','num_bc_tl','num_il_tl','num_op_rev_tl','num_rev_accts','num_rev_tl_bal_gt_0','num_sats','num_tl_120dpd_2m','num_tl_30dpd','num_tl_90g_dpd_24m','num_tl_op_past_12m','percent_bc_gt_75','tax_liens','tot_hi_cred_lim','total_bal_ex_mort','sub_grade','emp_title','pymnt_plan','zip_code','title','last_credit_pull_d','disbursement_method']\n",
    "df_all.drop(drop_col, axis=1, inplace=True)\n",
    "df_all.shape"
   ]
  },
  {
   "cell_type": "code",
   "execution_count": 27,
   "metadata": {},
   "outputs": [
    {
     "data": {
      "text/plain": [
       "1.0    1357093\n",
       "Name: policy_code, dtype: int64"
      ]
     },
     "execution_count": 27,
     "metadata": {},
     "output_type": "execute_result"
    }
   ],
   "source": [
    "df_all.policy_code.value_counts()"
   ]
  },
  {
   "cell_type": "code",
   "execution_count": 28,
   "metadata": {},
   "outputs": [
    {
     "data": {
      "text/plain": [
       "(1357093, 29)"
      ]
     },
     "execution_count": 28,
     "metadata": {},
     "output_type": "execute_result"
    }
   ],
   "source": [
    "# drop policy_code as it has only 1 level\n",
    "df_all.drop('policy_code', axis=1, inplace=True)\n",
    "df_all.shape"
   ]
  },
  {
   "cell_type": "markdown",
   "metadata": {},
   "source": [
    "###  **5. remove statistically insignificant features by using Chi-Square test and Welch's t test**"
   ]
  },
  {
   "cell_type": "code",
   "execution_count": 29,
   "metadata": {},
   "outputs": [],
   "source": [
    "# create a function to do chi-square test for categorical features\n",
    "def chisq_test(x):\n",
    "    # do chi squared test for categorical features\n",
    "    if x.dtypes == 'object':\n",
    "        observed = pd.crosstab(x, df_all.loan_status_bin)\n",
    "        chi2, p = scipy.stats.chi2_contingency(observed, correction=False)[0:2]\n",
    "        return p"
   ]
  },
  {
   "cell_type": "code",
   "execution_count": 30,
   "metadata": {},
   "outputs": [
    {
     "data": {
      "text/plain": [
       "loan_amnt                      0.000000e+00\n",
       "term                           0.000000e+00\n",
       "int_rate                       0.000000e+00\n",
       "installment                    0.000000e+00\n",
       "grade                          0.000000e+00\n",
       "emp_length                     8.309895e-72\n",
       "home_ownership                 0.000000e+00\n",
       "annual_inc                     1.137140e-94\n",
       "verification_status            0.000000e+00\n",
       "purpose                        0.000000e+00\n",
       "addr_state                     0.000000e+00\n",
       "dti                            0.000000e+00\n",
       "delinq_2yrs                   2.064388e-121\n",
       "earliest_cr_line               0.000000e+00\n",
       "inq_last_6mths                 0.000000e+00\n",
       "open_acc                      1.392886e-209\n",
       "pub_rec                       3.753365e-265\n",
       "revol_bal                      1.000000e+00\n",
       "revol_util                     0.000000e+00\n",
       "total_acc                     4.235798e-119\n",
       "application_type               0.000000e+00\n",
       "bc_open_to_buy                 1.000000e+00\n",
       "bc_util                        0.000000e+00\n",
       "mo_sin_old_il_acct            3.631590e-284\n",
       "mort_acc                       0.000000e+00\n",
       "pub_rec_bankruptcies          2.740157e-191\n",
       "total_bc_limit                8.661705e-232\n",
       "total_il_high_credit_limit     8.108871e-06\n",
       "loan_status_bin                0.000000e+00\n",
       "dtype: float64"
      ]
     },
     "execution_count": 30,
     "metadata": {},
     "output_type": "execute_result"
    }
   ],
   "source": [
    "df_all.apply(chisq_test)"
   ]
  },
  {
   "cell_type": "code",
   "execution_count": 32,
   "metadata": {},
   "outputs": [
    {
     "data": {
      "text/html": [
       "<div>\n",
       "<style scoped>\n",
       "    .dataframe tbody tr th:only-of-type {\n",
       "        vertical-align: middle;\n",
       "    }\n",
       "\n",
       "    .dataframe tbody tr th {\n",
       "        vertical-align: top;\n",
       "    }\n",
       "\n",
       "    .dataframe thead th {\n",
       "        text-align: right;\n",
       "    }\n",
       "</style>\n",
       "<table border=\"1\" class=\"dataframe\">\n",
       "  <thead>\n",
       "    <tr style=\"text-align: right;\">\n",
       "      <th></th>\n",
       "      <th>feature</th>\n",
       "      <th>p_value</th>\n",
       "    </tr>\n",
       "  </thead>\n",
       "  <tbody>\n",
       "    <tr>\n",
       "      <th>0</th>\n",
       "      <td>loan_amnt</td>\n",
       "      <td>0.0</td>\n",
       "    </tr>\n",
       "    <tr>\n",
       "      <th>1</th>\n",
       "      <td>term</td>\n",
       "      <td>0.0</td>\n",
       "    </tr>\n",
       "    <tr>\n",
       "      <th>2</th>\n",
       "      <td>int_rate</td>\n",
       "      <td>0.0</td>\n",
       "    </tr>\n",
       "    <tr>\n",
       "      <th>3</th>\n",
       "      <td>installment</td>\n",
       "      <td>0.0</td>\n",
       "    </tr>\n",
       "    <tr>\n",
       "      <th>4</th>\n",
       "      <td>grade</td>\n",
       "      <td>0.0</td>\n",
       "    </tr>\n",
       "  </tbody>\n",
       "</table>\n",
       "</div>"
      ],
      "text/plain": [
       "       feature  p_value\n",
       "0    loan_amnt      0.0\n",
       "1         term      0.0\n",
       "2     int_rate      0.0\n",
       "3  installment      0.0\n",
       "4        grade      0.0"
      ]
     },
     "execution_count": 32,
     "metadata": {},
     "output_type": "execute_result"
    }
   ],
   "source": [
    "# calculate p values for all categorical features\n",
    "p_values = pd.DataFrame(df_all.apply(chisq_test)).reset_index()\n",
    "p_values.columns=['feature', 'p_value']\n",
    "p_values.head()"
   ]
  },
  {
   "cell_type": "code",
   "execution_count": 33,
   "metadata": {},
   "outputs": [
    {
     "data": {
      "text/plain": [
       "['revol_bal', 'bc_open_to_buy']"
      ]
     },
     "execution_count": 33,
     "metadata": {},
     "output_type": "execute_result"
    }
   ],
   "source": [
    "# if p vlaue >= 0.05, we cannot reject the null hypotheisis(no sig relationship b/w the feature and target)\n",
    "drop_list = p_values[p_values.p_value>=0.05]['feature'].tolist()\n",
    "drop_list"
   ]
  },
  {
   "cell_type": "code",
   "execution_count": 34,
   "metadata": {},
   "outputs": [
    {
     "data": {
      "text/plain": [
       "(1357093, 27)"
      ]
     },
     "execution_count": 34,
     "metadata": {},
     "output_type": "execute_result"
    }
   ],
   "source": [
    "df_all.drop(drop_list, axis=1, inplace=True)\n",
    "df_all.shape"
   ]
  },
  {
   "cell_type": "code",
   "execution_count": 48,
   "metadata": {},
   "outputs": [],
   "source": [
    "# create a function to do welch’s t-test for numeric features\n",
    "def t_test(x):\n",
    "    if x.dtypes == 'float64':\n",
    "        group_a, group_b = [g[1] for g in x.groupby(df_all.loan_status_bin)]\n",
    "        t_stat, p = scipy.stats.ttest_ind(group_a, group_b, equal_var=False, nan_policy='omit')\n",
    "        return p  "
   ]
  },
  {
   "cell_type": "code",
   "execution_count": 49,
   "metadata": {},
   "outputs": [
    {
     "data": {
      "text/plain": [
       "Index(['loan_amnt', 'int_rate', 'installment', 'annual_inc', 'dti',\n",
       "       'delinq_2yrs', 'inq_last_6mths', 'open_acc', 'pub_rec', 'revol_util',\n",
       "       'total_acc', 'bc_util', 'mo_sin_old_il_acct', 'mort_acc',\n",
       "       'pub_rec_bankruptcies', 'total_bc_limit', 'total_il_high_credit_limit'],\n",
       "      dtype='object')"
      ]
     },
     "execution_count": 49,
     "metadata": {},
     "output_type": "execute_result"
    }
   ],
   "source": [
    "df_num = df_all.select_dtypes(exclude=['object'])\n",
    "df_num.columns"
   ]
  },
  {
   "cell_type": "code",
   "execution_count": 50,
   "metadata": {},
   "outputs": [
    {
     "data": {
      "text/plain": [
       "loan_amnt                      0.000000e+00\n",
       "int_rate                       0.000000e+00\n",
       "installment                    0.000000e+00\n",
       "annual_inc                     0.000000e+00\n",
       "dti                            0.000000e+00\n",
       "delinq_2yrs                   1.157646e-111\n",
       "inq_last_6mths                 0.000000e+00\n",
       "open_acc                      9.294892e-218\n",
       "pub_rec                       2.713826e-174\n",
       "revol_util                     0.000000e+00\n",
       "total_acc                      2.144434e-72\n",
       "bc_util                        0.000000e+00\n",
       "mo_sin_old_il_acct            2.555411e-191\n",
       "mort_acc                       0.000000e+00\n",
       "pub_rec_bankruptcies          4.005714e-174\n",
       "total_bc_limit                 0.000000e+00\n",
       "total_il_high_credit_limit     5.582731e-08\n",
       "dtype: float64"
      ]
     },
     "execution_count": 50,
     "metadata": {},
     "output_type": "execute_result"
    }
   ],
   "source": [
    "df_num.apply(t_test)"
   ]
  },
  {
   "cell_type": "code",
   "execution_count": 51,
   "metadata": {},
   "outputs": [
    {
     "data": {
      "text/html": [
       "<div>\n",
       "<style scoped>\n",
       "    .dataframe tbody tr th:only-of-type {\n",
       "        vertical-align: middle;\n",
       "    }\n",
       "\n",
       "    .dataframe tbody tr th {\n",
       "        vertical-align: top;\n",
       "    }\n",
       "\n",
       "    .dataframe thead th {\n",
       "        text-align: right;\n",
       "    }\n",
       "</style>\n",
       "<table border=\"1\" class=\"dataframe\">\n",
       "  <thead>\n",
       "    <tr style=\"text-align: right;\">\n",
       "      <th></th>\n",
       "      <th>feature</th>\n",
       "      <th>p_value</th>\n",
       "    </tr>\n",
       "  </thead>\n",
       "  <tbody>\n",
       "    <tr>\n",
       "      <th>0</th>\n",
       "      <td>loan_amnt</td>\n",
       "      <td>0.0</td>\n",
       "    </tr>\n",
       "    <tr>\n",
       "      <th>1</th>\n",
       "      <td>int_rate</td>\n",
       "      <td>0.0</td>\n",
       "    </tr>\n",
       "    <tr>\n",
       "      <th>2</th>\n",
       "      <td>installment</td>\n",
       "      <td>0.0</td>\n",
       "    </tr>\n",
       "    <tr>\n",
       "      <th>3</th>\n",
       "      <td>annual_inc</td>\n",
       "      <td>0.0</td>\n",
       "    </tr>\n",
       "    <tr>\n",
       "      <th>4</th>\n",
       "      <td>dti</td>\n",
       "      <td>0.0</td>\n",
       "    </tr>\n",
       "  </tbody>\n",
       "</table>\n",
       "</div>"
      ],
      "text/plain": [
       "       feature  p_value\n",
       "0    loan_amnt      0.0\n",
       "1     int_rate      0.0\n",
       "2  installment      0.0\n",
       "3   annual_inc      0.0\n",
       "4          dti      0.0"
      ]
     },
     "execution_count": 51,
     "metadata": {},
     "output_type": "execute_result"
    }
   ],
   "source": [
    "# calculate p values for all features\n",
    "p_values = pd.DataFrame(df_num.apply(t_test)).reset_index()\n",
    "p_values.columns=['feature', 'p_value']\n",
    "p_values.head()"
   ]
  },
  {
   "cell_type": "code",
   "execution_count": 52,
   "metadata": {},
   "outputs": [
    {
     "data": {
      "text/plain": [
       "[]"
      ]
     },
     "execution_count": 52,
     "metadata": {},
     "output_type": "execute_result"
    }
   ],
   "source": [
    "# if p vlaue >= 0.05, we cannot reject the null hypotheisis(no sig diff in the two groups' means)\n",
    "drop_list = p_values[p_values.p_value>=0.05]['feature'].tolist()\n",
    "drop_list"
   ]
  },
  {
   "cell_type": "markdown",
   "metadata": {},
   "source": [
    "### **6. check for multicolinearity and remove highly correlated features**"
   ]
  },
  {
   "cell_type": "code",
   "execution_count": 53,
   "metadata": {},
   "outputs": [
    {
     "data": {
      "text/html": [
       "<div>\n",
       "<style scoped>\n",
       "    .dataframe tbody tr th:only-of-type {\n",
       "        vertical-align: middle;\n",
       "    }\n",
       "\n",
       "    .dataframe tbody tr th {\n",
       "        vertical-align: top;\n",
       "    }\n",
       "\n",
       "    .dataframe thead th {\n",
       "        text-align: right;\n",
       "    }\n",
       "</style>\n",
       "<table border=\"1\" class=\"dataframe\">\n",
       "  <thead>\n",
       "    <tr style=\"text-align: right;\">\n",
       "      <th></th>\n",
       "      <th>loan_amnt</th>\n",
       "      <th>int_rate</th>\n",
       "      <th>installment</th>\n",
       "      <th>annual_inc</th>\n",
       "      <th>dti</th>\n",
       "      <th>delinq_2yrs</th>\n",
       "      <th>inq_last_6mths</th>\n",
       "      <th>open_acc</th>\n",
       "      <th>pub_rec</th>\n",
       "      <th>revol_util</th>\n",
       "      <th>total_acc</th>\n",
       "      <th>bc_util</th>\n",
       "      <th>mo_sin_old_il_acct</th>\n",
       "      <th>mort_acc</th>\n",
       "      <th>pub_rec_bankruptcies</th>\n",
       "      <th>total_bc_limit</th>\n",
       "      <th>total_il_high_credit_limit</th>\n",
       "    </tr>\n",
       "  </thead>\n",
       "  <tbody>\n",
       "    <tr>\n",
       "      <th>loan_amnt</th>\n",
       "      <td>1.000000</td>\n",
       "      <td>0.148496</td>\n",
       "      <td>0.952650</td>\n",
       "      <td>0.467036</td>\n",
       "      <td>0.041215</td>\n",
       "      <td>-0.003665</td>\n",
       "      <td>-0.017573</td>\n",
       "      <td>0.183249</td>\n",
       "      <td>-0.066486</td>\n",
       "      <td>0.108216</td>\n",
       "      <td>0.203984</td>\n",
       "      <td>0.054115</td>\n",
       "      <td>0.119906</td>\n",
       "      <td>0.215781</td>\n",
       "      <td>-0.091649</td>\n",
       "      <td>0.363910</td>\n",
       "      <td>0.188953</td>\n",
       "    </tr>\n",
       "    <tr>\n",
       "      <th>int_rate</th>\n",
       "      <td>0.148496</td>\n",
       "      <td>1.000000</td>\n",
       "      <td>0.161731</td>\n",
       "      <td>-0.105680</td>\n",
       "      <td>0.145357</td>\n",
       "      <td>0.047713</td>\n",
       "      <td>0.212406</td>\n",
       "      <td>-0.002997</td>\n",
       "      <td>0.052243</td>\n",
       "      <td>0.240728</td>\n",
       "      <td>-0.042157</td>\n",
       "      <td>0.250865</td>\n",
       "      <td>-0.070359</td>\n",
       "      <td>-0.083059</td>\n",
       "      <td>0.057923</td>\n",
       "      <td>-0.228486</td>\n",
       "      <td>0.001950</td>\n",
       "    </tr>\n",
       "    <tr>\n",
       "      <th>installment</th>\n",
       "      <td>0.952650</td>\n",
       "      <td>0.161731</td>\n",
       "      <td>1.000000</td>\n",
       "      <td>0.447245</td>\n",
       "      <td>0.045302</td>\n",
       "      <td>0.005646</td>\n",
       "      <td>0.004254</td>\n",
       "      <td>0.173465</td>\n",
       "      <td>-0.055258</td>\n",
       "      <td>0.127024</td>\n",
       "      <td>0.180581</td>\n",
       "      <td>0.076296</td>\n",
       "      <td>0.098549</td>\n",
       "      <td>0.182017</td>\n",
       "      <td>-0.083881</td>\n",
       "      <td>0.330508</td>\n",
       "      <td>0.172646</td>\n",
       "    </tr>\n",
       "    <tr>\n",
       "      <th>annual_inc</th>\n",
       "      <td>0.467036</td>\n",
       "      <td>-0.105680</td>\n",
       "      <td>0.447245</td>\n",
       "      <td>1.000000</td>\n",
       "      <td>-0.176879</td>\n",
       "      <td>0.062174</td>\n",
       "      <td>0.046407</td>\n",
       "      <td>0.211594</td>\n",
       "      <td>-0.012374</td>\n",
       "      <td>0.061815</td>\n",
       "      <td>0.275695</td>\n",
       "      <td>0.004792</td>\n",
       "      <td>0.177749</td>\n",
       "      <td>0.323953</td>\n",
       "      <td>-0.064440</td>\n",
       "      <td>0.368347</td>\n",
       "      <td>0.359840</td>\n",
       "    </tr>\n",
       "    <tr>\n",
       "      <th>dti</th>\n",
       "      <td>0.041215</td>\n",
       "      <td>0.145357</td>\n",
       "      <td>0.045302</td>\n",
       "      <td>-0.176879</td>\n",
       "      <td>1.000000</td>\n",
       "      <td>-0.006924</td>\n",
       "      <td>-0.006106</td>\n",
       "      <td>0.224785</td>\n",
       "      <td>-0.030270</td>\n",
       "      <td>0.139517</td>\n",
       "      <td>0.174969</td>\n",
       "      <td>0.141815</td>\n",
       "      <td>0.038213</td>\n",
       "      <td>-0.023767</td>\n",
       "      <td>-0.018088</td>\n",
       "      <td>0.036378</td>\n",
       "      <td>0.269848</td>\n",
       "    </tr>\n",
       "    <tr>\n",
       "      <th>delinq_2yrs</th>\n",
       "      <td>-0.003665</td>\n",
       "      <td>0.047713</td>\n",
       "      <td>0.005646</td>\n",
       "      <td>0.062174</td>\n",
       "      <td>-0.006924</td>\n",
       "      <td>1.000000</td>\n",
       "      <td>0.023839</td>\n",
       "      <td>0.052688</td>\n",
       "      <td>-0.021107</td>\n",
       "      <td>-0.011419</td>\n",
       "      <td>0.119955</td>\n",
       "      <td>-0.009217</td>\n",
       "      <td>0.080676</td>\n",
       "      <td>0.073184</td>\n",
       "      <td>-0.047252</td>\n",
       "      <td>-0.077087</td>\n",
       "      <td>0.062475</td>\n",
       "    </tr>\n",
       "    <tr>\n",
       "      <th>inq_last_6mths</th>\n",
       "      <td>-0.017573</td>\n",
       "      <td>0.212406</td>\n",
       "      <td>0.004254</td>\n",
       "      <td>0.046407</td>\n",
       "      <td>-0.006106</td>\n",
       "      <td>0.023839</td>\n",
       "      <td>1.000000</td>\n",
       "      <td>0.134109</td>\n",
       "      <td>0.062044</td>\n",
       "      <td>-0.083701</td>\n",
       "      <td>0.148948</td>\n",
       "      <td>-0.072481</td>\n",
       "      <td>0.014251</td>\n",
       "      <td>0.044068</td>\n",
       "      <td>0.075540</td>\n",
       "      <td>-0.006869</td>\n",
       "      <td>0.042870</td>\n",
       "    </tr>\n",
       "    <tr>\n",
       "      <th>open_acc</th>\n",
       "      <td>0.183249</td>\n",
       "      <td>-0.002997</td>\n",
       "      <td>0.173465</td>\n",
       "      <td>0.211594</td>\n",
       "      <td>0.224785</td>\n",
       "      <td>0.052688</td>\n",
       "      <td>0.134109</td>\n",
       "      <td>1.000000</td>\n",
       "      <td>-0.017483</td>\n",
       "      <td>-0.141735</td>\n",
       "      <td>0.700711</td>\n",
       "      <td>-0.102831</td>\n",
       "      <td>0.134211</td>\n",
       "      <td>0.118203</td>\n",
       "      <td>-0.020985</td>\n",
       "      <td>0.360794</td>\n",
       "      <td>0.363929</td>\n",
       "    </tr>\n",
       "    <tr>\n",
       "      <th>pub_rec</th>\n",
       "      <td>-0.066486</td>\n",
       "      <td>0.052243</td>\n",
       "      <td>-0.055258</td>\n",
       "      <td>-0.012374</td>\n",
       "      <td>-0.030270</td>\n",
       "      <td>-0.021107</td>\n",
       "      <td>0.062044</td>\n",
       "      <td>-0.017483</td>\n",
       "      <td>1.000000</td>\n",
       "      <td>-0.068411</td>\n",
       "      <td>0.006713</td>\n",
       "      <td>-0.035647</td>\n",
       "      <td>0.043205</td>\n",
       "      <td>-0.005062</td>\n",
       "      <td>0.651872</td>\n",
       "      <td>-0.133532</td>\n",
       "      <td>-0.023321</td>\n",
       "    </tr>\n",
       "    <tr>\n",
       "      <th>revol_util</th>\n",
       "      <td>0.108216</td>\n",
       "      <td>0.240728</td>\n",
       "      <td>0.127024</td>\n",
       "      <td>0.061815</td>\n",
       "      <td>0.139517</td>\n",
       "      <td>-0.011419</td>\n",
       "      <td>-0.083701</td>\n",
       "      <td>-0.141735</td>\n",
       "      <td>-0.068411</td>\n",
       "      <td>1.000000</td>\n",
       "      <td>-0.104980</td>\n",
       "      <td>0.854679</td>\n",
       "      <td>0.061632</td>\n",
       "      <td>0.026438</td>\n",
       "      <td>-0.085794</td>\n",
       "      <td>-0.176805</td>\n",
       "      <td>0.030930</td>\n",
       "    </tr>\n",
       "    <tr>\n",
       "      <th>total_acc</th>\n",
       "      <td>0.203984</td>\n",
       "      <td>-0.042157</td>\n",
       "      <td>0.180581</td>\n",
       "      <td>0.275695</td>\n",
       "      <td>0.174969</td>\n",
       "      <td>0.119955</td>\n",
       "      <td>0.148948</td>\n",
       "      <td>0.700711</td>\n",
       "      <td>0.006713</td>\n",
       "      <td>-0.104980</td>\n",
       "      <td>1.000000</td>\n",
       "      <td>-0.081427</td>\n",
       "      <td>0.337195</td>\n",
       "      <td>0.365608</td>\n",
       "      <td>0.035321</td>\n",
       "      <td>0.273463</td>\n",
       "      <td>0.420212</td>\n",
       "    </tr>\n",
       "    <tr>\n",
       "      <th>bc_util</th>\n",
       "      <td>0.054115</td>\n",
       "      <td>0.250865</td>\n",
       "      <td>0.076296</td>\n",
       "      <td>0.004792</td>\n",
       "      <td>0.141815</td>\n",
       "      <td>-0.009217</td>\n",
       "      <td>-0.072481</td>\n",
       "      <td>-0.102831</td>\n",
       "      <td>-0.035647</td>\n",
       "      <td>0.854679</td>\n",
       "      <td>-0.081427</td>\n",
       "      <td>1.000000</td>\n",
       "      <td>0.053349</td>\n",
       "      <td>0.005375</td>\n",
       "      <td>-0.038815</td>\n",
       "      <td>-0.257826</td>\n",
       "      <td>0.019085</td>\n",
       "    </tr>\n",
       "    <tr>\n",
       "      <th>mo_sin_old_il_acct</th>\n",
       "      <td>0.119906</td>\n",
       "      <td>-0.070359</td>\n",
       "      <td>0.098549</td>\n",
       "      <td>0.177749</td>\n",
       "      <td>0.038213</td>\n",
       "      <td>0.080676</td>\n",
       "      <td>0.014251</td>\n",
       "      <td>0.134211</td>\n",
       "      <td>0.043205</td>\n",
       "      <td>0.061632</td>\n",
       "      <td>0.337195</td>\n",
       "      <td>0.053349</td>\n",
       "      <td>1.000000</td>\n",
       "      <td>0.190806</td>\n",
       "      <td>0.039429</td>\n",
       "      <td>0.079050</td>\n",
       "      <td>0.203030</td>\n",
       "    </tr>\n",
       "    <tr>\n",
       "      <th>mort_acc</th>\n",
       "      <td>0.215781</td>\n",
       "      <td>-0.083059</td>\n",
       "      <td>0.182017</td>\n",
       "      <td>0.323953</td>\n",
       "      <td>-0.023767</td>\n",
       "      <td>0.073184</td>\n",
       "      <td>0.044068</td>\n",
       "      <td>0.118203</td>\n",
       "      <td>-0.005062</td>\n",
       "      <td>0.026438</td>\n",
       "      <td>0.365608</td>\n",
       "      <td>0.005375</td>\n",
       "      <td>0.190806</td>\n",
       "      <td>1.000000</td>\n",
       "      <td>0.008831</td>\n",
       "      <td>0.195203</td>\n",
       "      <td>0.095655</td>\n",
       "    </tr>\n",
       "    <tr>\n",
       "      <th>pub_rec_bankruptcies</th>\n",
       "      <td>-0.091649</td>\n",
       "      <td>0.057923</td>\n",
       "      <td>-0.083881</td>\n",
       "      <td>-0.064440</td>\n",
       "      <td>-0.018088</td>\n",
       "      <td>-0.047252</td>\n",
       "      <td>0.075540</td>\n",
       "      <td>-0.020985</td>\n",
       "      <td>0.651872</td>\n",
       "      <td>-0.085794</td>\n",
       "      <td>0.035321</td>\n",
       "      <td>-0.038815</td>\n",
       "      <td>0.039429</td>\n",
       "      <td>0.008831</td>\n",
       "      <td>1.000000</td>\n",
       "      <td>-0.153410</td>\n",
       "      <td>-0.032973</td>\n",
       "    </tr>\n",
       "    <tr>\n",
       "      <th>total_bc_limit</th>\n",
       "      <td>0.363910</td>\n",
       "      <td>-0.228486</td>\n",
       "      <td>0.330508</td>\n",
       "      <td>0.368347</td>\n",
       "      <td>0.036378</td>\n",
       "      <td>-0.077087</td>\n",
       "      <td>-0.006869</td>\n",
       "      <td>0.360794</td>\n",
       "      <td>-0.133532</td>\n",
       "      <td>-0.176805</td>\n",
       "      <td>0.273463</td>\n",
       "      <td>-0.257826</td>\n",
       "      <td>0.079050</td>\n",
       "      <td>0.195203</td>\n",
       "      <td>-0.153410</td>\n",
       "      <td>1.000000</td>\n",
       "      <td>0.095492</td>\n",
       "    </tr>\n",
       "    <tr>\n",
       "      <th>total_il_high_credit_limit</th>\n",
       "      <td>0.188953</td>\n",
       "      <td>0.001950</td>\n",
       "      <td>0.172646</td>\n",
       "      <td>0.359840</td>\n",
       "      <td>0.269848</td>\n",
       "      <td>0.062475</td>\n",
       "      <td>0.042870</td>\n",
       "      <td>0.363929</td>\n",
       "      <td>-0.023321</td>\n",
       "      <td>0.030930</td>\n",
       "      <td>0.420212</td>\n",
       "      <td>0.019085</td>\n",
       "      <td>0.203030</td>\n",
       "      <td>0.095655</td>\n",
       "      <td>-0.032973</td>\n",
       "      <td>0.095492</td>\n",
       "      <td>1.000000</td>\n",
       "    </tr>\n",
       "  </tbody>\n",
       "</table>\n",
       "</div>"
      ],
      "text/plain": [
       "                            loan_amnt  int_rate  installment  annual_inc  \\\n",
       "loan_amnt                    1.000000  0.148496     0.952650    0.467036   \n",
       "int_rate                     0.148496  1.000000     0.161731   -0.105680   \n",
       "installment                  0.952650  0.161731     1.000000    0.447245   \n",
       "annual_inc                   0.467036 -0.105680     0.447245    1.000000   \n",
       "dti                          0.041215  0.145357     0.045302   -0.176879   \n",
       "delinq_2yrs                 -0.003665  0.047713     0.005646    0.062174   \n",
       "inq_last_6mths              -0.017573  0.212406     0.004254    0.046407   \n",
       "open_acc                     0.183249 -0.002997     0.173465    0.211594   \n",
       "pub_rec                     -0.066486  0.052243    -0.055258   -0.012374   \n",
       "revol_util                   0.108216  0.240728     0.127024    0.061815   \n",
       "total_acc                    0.203984 -0.042157     0.180581    0.275695   \n",
       "bc_util                      0.054115  0.250865     0.076296    0.004792   \n",
       "mo_sin_old_il_acct           0.119906 -0.070359     0.098549    0.177749   \n",
       "mort_acc                     0.215781 -0.083059     0.182017    0.323953   \n",
       "pub_rec_bankruptcies        -0.091649  0.057923    -0.083881   -0.064440   \n",
       "total_bc_limit               0.363910 -0.228486     0.330508    0.368347   \n",
       "total_il_high_credit_limit   0.188953  0.001950     0.172646    0.359840   \n",
       "\n",
       "                                 dti  delinq_2yrs  inq_last_6mths  open_acc  \\\n",
       "loan_amnt                   0.041215    -0.003665       -0.017573  0.183249   \n",
       "int_rate                    0.145357     0.047713        0.212406 -0.002997   \n",
       "installment                 0.045302     0.005646        0.004254  0.173465   \n",
       "annual_inc                 -0.176879     0.062174        0.046407  0.211594   \n",
       "dti                         1.000000    -0.006924       -0.006106  0.224785   \n",
       "delinq_2yrs                -0.006924     1.000000        0.023839  0.052688   \n",
       "inq_last_6mths             -0.006106     0.023839        1.000000  0.134109   \n",
       "open_acc                    0.224785     0.052688        0.134109  1.000000   \n",
       "pub_rec                    -0.030270    -0.021107        0.062044 -0.017483   \n",
       "revol_util                  0.139517    -0.011419       -0.083701 -0.141735   \n",
       "total_acc                   0.174969     0.119955        0.148948  0.700711   \n",
       "bc_util                     0.141815    -0.009217       -0.072481 -0.102831   \n",
       "mo_sin_old_il_acct          0.038213     0.080676        0.014251  0.134211   \n",
       "mort_acc                   -0.023767     0.073184        0.044068  0.118203   \n",
       "pub_rec_bankruptcies       -0.018088    -0.047252        0.075540 -0.020985   \n",
       "total_bc_limit              0.036378    -0.077087       -0.006869  0.360794   \n",
       "total_il_high_credit_limit  0.269848     0.062475        0.042870  0.363929   \n",
       "\n",
       "                             pub_rec  revol_util  total_acc   bc_util  \\\n",
       "loan_amnt                  -0.066486    0.108216   0.203984  0.054115   \n",
       "int_rate                    0.052243    0.240728  -0.042157  0.250865   \n",
       "installment                -0.055258    0.127024   0.180581  0.076296   \n",
       "annual_inc                 -0.012374    0.061815   0.275695  0.004792   \n",
       "dti                        -0.030270    0.139517   0.174969  0.141815   \n",
       "delinq_2yrs                -0.021107   -0.011419   0.119955 -0.009217   \n",
       "inq_last_6mths              0.062044   -0.083701   0.148948 -0.072481   \n",
       "open_acc                   -0.017483   -0.141735   0.700711 -0.102831   \n",
       "pub_rec                     1.000000   -0.068411   0.006713 -0.035647   \n",
       "revol_util                 -0.068411    1.000000  -0.104980  0.854679   \n",
       "total_acc                   0.006713   -0.104980   1.000000 -0.081427   \n",
       "bc_util                    -0.035647    0.854679  -0.081427  1.000000   \n",
       "mo_sin_old_il_acct          0.043205    0.061632   0.337195  0.053349   \n",
       "mort_acc                   -0.005062    0.026438   0.365608  0.005375   \n",
       "pub_rec_bankruptcies        0.651872   -0.085794   0.035321 -0.038815   \n",
       "total_bc_limit             -0.133532   -0.176805   0.273463 -0.257826   \n",
       "total_il_high_credit_limit -0.023321    0.030930   0.420212  0.019085   \n",
       "\n",
       "                            mo_sin_old_il_acct  mort_acc  \\\n",
       "loan_amnt                             0.119906  0.215781   \n",
       "int_rate                             -0.070359 -0.083059   \n",
       "installment                           0.098549  0.182017   \n",
       "annual_inc                            0.177749  0.323953   \n",
       "dti                                   0.038213 -0.023767   \n",
       "delinq_2yrs                           0.080676  0.073184   \n",
       "inq_last_6mths                        0.014251  0.044068   \n",
       "open_acc                              0.134211  0.118203   \n",
       "pub_rec                               0.043205 -0.005062   \n",
       "revol_util                            0.061632  0.026438   \n",
       "total_acc                             0.337195  0.365608   \n",
       "bc_util                               0.053349  0.005375   \n",
       "mo_sin_old_il_acct                    1.000000  0.190806   \n",
       "mort_acc                              0.190806  1.000000   \n",
       "pub_rec_bankruptcies                  0.039429  0.008831   \n",
       "total_bc_limit                        0.079050  0.195203   \n",
       "total_il_high_credit_limit            0.203030  0.095655   \n",
       "\n",
       "                            pub_rec_bankruptcies  total_bc_limit  \\\n",
       "loan_amnt                              -0.091649        0.363910   \n",
       "int_rate                                0.057923       -0.228486   \n",
       "installment                            -0.083881        0.330508   \n",
       "annual_inc                             -0.064440        0.368347   \n",
       "dti                                    -0.018088        0.036378   \n",
       "delinq_2yrs                            -0.047252       -0.077087   \n",
       "inq_last_6mths                          0.075540       -0.006869   \n",
       "open_acc                               -0.020985        0.360794   \n",
       "pub_rec                                 0.651872       -0.133532   \n",
       "revol_util                             -0.085794       -0.176805   \n",
       "total_acc                               0.035321        0.273463   \n",
       "bc_util                                -0.038815       -0.257826   \n",
       "mo_sin_old_il_acct                      0.039429        0.079050   \n",
       "mort_acc                                0.008831        0.195203   \n",
       "pub_rec_bankruptcies                    1.000000       -0.153410   \n",
       "total_bc_limit                         -0.153410        1.000000   \n",
       "total_il_high_credit_limit             -0.032973        0.095492   \n",
       "\n",
       "                            total_il_high_credit_limit  \n",
       "loan_amnt                                     0.188953  \n",
       "int_rate                                      0.001950  \n",
       "installment                                   0.172646  \n",
       "annual_inc                                    0.359840  \n",
       "dti                                           0.269848  \n",
       "delinq_2yrs                                   0.062475  \n",
       "inq_last_6mths                                0.042870  \n",
       "open_acc                                      0.363929  \n",
       "pub_rec                                      -0.023321  \n",
       "revol_util                                    0.030930  \n",
       "total_acc                                     0.420212  \n",
       "bc_util                                       0.019085  \n",
       "mo_sin_old_il_acct                            0.203030  \n",
       "mort_acc                                      0.095655  \n",
       "pub_rec_bankruptcies                         -0.032973  \n",
       "total_bc_limit                                0.095492  \n",
       "total_il_high_credit_limit                    1.000000  "
      ]
     },
     "execution_count": 53,
     "metadata": {},
     "output_type": "execute_result"
    }
   ],
   "source": [
    "corr = df_all.corr()\n",
    "corr"
   ]
  },
  {
   "cell_type": "code",
   "execution_count": 54,
   "metadata": {},
   "outputs": [],
   "source": [
    "# check the correlation between features and remove one of two features that have a correlation higher than 0.9\n",
    "drop_cols = np.full((corr.shape[0],), False, dtype=bool)\n",
    "for i in range(corr.shape[0]):\n",
    "    for j in range(i+1, corr.shape[1]):\n",
    "        if corr.iloc[i,j] >= 0.9:\n",
    "            drop_cols[j] = True        "
   ]
  },
  {
   "cell_type": "code",
   "execution_count": 55,
   "metadata": {},
   "outputs": [
    {
     "data": {
      "text/plain": [
       "Index(['installment'], dtype='object')"
      ]
     },
     "execution_count": 55,
     "metadata": {},
     "output_type": "execute_result"
    }
   ],
   "source": [
    "num_cols = ['loan_amnt','int_rate','installment','annual_inc','dti','delinq_2yrs','inq_last_6mths','open_acc','pub_rec','revol_util','total_acc','bc_util','mo_sin_old_il_acct','mort_acc','pub_rec_bankruptcies','total_bc_limit','total_il_high_credit_limit']\n",
    "df_num_cols = df_all[num_cols]\n",
    "drop_columns = df_num_cols.columns[drop_cols]\n",
    "drop_columns"
   ]
  },
  {
   "cell_type": "code",
   "execution_count": 56,
   "metadata": {},
   "outputs": [
    {
     "data": {
      "text/plain": [
       "(1357093, 26)"
      ]
     },
     "execution_count": 56,
     "metadata": {},
     "output_type": "execute_result"
    }
   ],
   "source": [
    "df_all.drop(drop_columns, axis=1, inplace=True)\n",
    "df_all.shape"
   ]
  },
  {
   "cell_type": "markdown",
   "metadata": {},
   "source": [
    "## **Feature Engineering**"
   ]
  },
  {
   "cell_type": "code",
   "execution_count": 57,
   "metadata": {},
   "outputs": [],
   "source": [
    "# create a new feature 'emp_years'\n",
    "def get_emp_years (x):\n",
    "    if x=='10+ years':\n",
    "        return '10+ years'\n",
    "    elif (x=='< 1 year')|(x=='1 year')|(x=='2 years')|(x=='3 years')|(x=='4 years')|(x=='5 years'):\n",
    "        return '1-5 years'\n",
    "    else:\n",
    "        return '5-10 years'"
   ]
  },
  {
   "cell_type": "code",
   "execution_count": 58,
   "metadata": {},
   "outputs": [
    {
     "data": {
      "text/plain": [
       "1-5 years     596771\n",
       "10+ years     444816\n",
       "5-10 years    315506\n",
       "Name: emp_years, dtype: int64"
      ]
     },
     "execution_count": 58,
     "metadata": {},
     "output_type": "execute_result"
    }
   ],
   "source": [
    "df_all['emp_years'] = df_all['emp_length'].apply(get_emp_years)\n",
    "df_all.drop('emp_length', axis=1, inplace=True)\n",
    "df_all['emp_years'].value_counts()"
   ]
  },
  {
   "cell_type": "code",
   "execution_count": 59,
   "metadata": {},
   "outputs": [],
   "source": [
    "# create a new feature 'home_ownership_type'\n",
    "def get_ownership_type(x):\n",
    "    if (x=='NONE')|(x=='ANY')|(x=='OTHER'):\n",
    "        return 'OTHER'\n",
    "    else:\n",
    "        return x"
   ]
  },
  {
   "cell_type": "code",
   "execution_count": 60,
   "metadata": {},
   "outputs": [
    {
     "data": {
      "text/plain": [
       "MORTGAGE    667392\n",
       "RENT        542769\n",
       "OWN         146437\n",
       "OTHER          495\n",
       "Name: home_ownership_type, dtype: int64"
      ]
     },
     "execution_count": 60,
     "metadata": {},
     "output_type": "execute_result"
    }
   ],
   "source": [
    "df_all['home_ownership_type'] = df_all['home_ownership'].apply(get_ownership_type)\n",
    "df_all.drop('home_ownership', axis=1, inplace=True)\n",
    "df_all['home_ownership_type'].value_counts()"
   ]
  },
  {
   "cell_type": "code",
   "execution_count": 61,
   "metadata": {},
   "outputs": [],
   "source": [
    "# create region based on state\n",
    "west = ['CA', 'OR', 'UT','WA', 'CO', 'NV', 'AK', 'MT', 'HI', 'WY', 'ID']\n",
    "south_west = ['AZ', 'TX', 'NM', 'OK']\n",
    "south_east = ['GA', 'NC', 'VA', 'FL', 'KY', 'SC', 'LA', 'AL', 'WV', 'DC', 'AR', 'DE', 'MS', 'TN' ]\n",
    "mid_west = ['IL', 'MO', 'MN', 'OH', 'WI', 'KS', 'MI', 'SD', 'IA', 'NE', 'IN', 'ND']\n",
    "north_east = ['CT', 'NY', 'PA', 'NJ', 'RI','MA', 'MD', 'VT', 'NH', 'ME']\n",
    "\n",
    "def get_region(x):\n",
    "    if x in west:\n",
    "        return 'West'\n",
    "    elif x in south_west:\n",
    "        return 'SouthWest'\n",
    "    elif x in south_east:\n",
    "        return 'SouthEast'\n",
    "    elif x in mid_west:\n",
    "        return 'MidWest'\n",
    "    elif x in north_east:\n",
    "        return 'NorthEast'"
   ]
  },
  {
   "cell_type": "code",
   "execution_count": 62,
   "metadata": {},
   "outputs": [
    {
     "data": {
      "text/plain": [
       "SouthEast    328647\n",
       "West         322624\n",
       "NorthEast    304860\n",
       "MidWest      236977\n",
       "SouthWest    163985\n",
       "Name: region, dtype: int64"
      ]
     },
     "execution_count": 62,
     "metadata": {},
     "output_type": "execute_result"
    }
   ],
   "source": [
    "df_all['region'] = df_all['addr_state'].apply(get_region)\n",
    "df_all.drop('addr_state', axis=1, inplace=True)\n",
    "df_all['region'].value_counts()"
   ]
  },
  {
   "cell_type": "code",
   "execution_count": 63,
   "metadata": {},
   "outputs": [],
   "source": [
    "# calculate time since first credit line\n",
    "now = datetime.now()\n",
    "def get_credit_days (x):\n",
    "    if x != 'nan':\n",
    "        credit_hist = datetime.strptime(x, '%b-%Y')\n",
    "        return (now-credit_hist).days\n",
    "    else:\n",
    "        return None\n",
    "\n",
    "df_all['credit_days'] = df_all['earliest_cr_line'].astype(str).apply(get_credit_days)\n",
    "df_all.drop('earliest_cr_line', axis=1, inplace=True)"
   ]
  },
  {
   "cell_type": "code",
   "execution_count": 64,
   "metadata": {},
   "outputs": [
    {
     "data": {
      "image/png": "[encoded data removed]",
      "text/plain": [
       "<Figure size 720x720 with 2 Axes>"
      ]
     },
     "metadata": {
      "needs_background": "light"
     },
     "output_type": "display_data"
    }
   ],
   "source": [
    "# correlation matrix of df_all\n",
    "sns.set_context(context='notebook')\n",
    "fig, ax = plt.subplots(figsize=(10,10)) \n",
    "corr = df_all.corr()\n",
    "\n",
    "# Generate a mask for the upper triangle\n",
    "mask = np.zeros_like(corr, dtype=np.bool)\n",
    "mask[np.tril_indices_from(mask)] = True\n",
    "\n",
    "# Generate a custom diverging colormap\n",
    "cmap = sns.diverging_palette(225,10,sep=5, as_cmap=True)\n",
    "\n",
    "sns.heatmap(corr, cmap=cmap,linewidths=1, vmin=-1, vmax=1, square=True, cbar=True, center=0, ax=ax, mask=mask)\n",
    "\n",
    "plt.savefig('prj3_df_all_corr')"
   ]
  },
  {
   "cell_type": "code",
   "execution_count": 65,
   "metadata": {},
   "outputs": [
    {
     "data": {
      "text/plain": [
       "(1357093, 26)"
      ]
     },
     "execution_count": 65,
     "metadata": {},
     "output_type": "execute_result"
    }
   ],
   "source": [
    "df_all.shape"
   ]
  },
  {
   "cell_type": "markdown",
   "metadata": {},
   "source": [
    "**I choose below 25 features for the loan default analysis**\n",
    "* **loan_amnt**: The listed amount of the loan applied for by the borrower. If at some point in time, the credit department reduces the loan amount, then it will be reflected in this value\n",
    "* **term**: The number of payments on the loan. Values are in months and can be either 36 or 60\n",
    "* **int_rate**: Interest Rate on the loan\n",
    "* **grade**: LC assigned loan grade\n",
    "* **annual_inc**: The self-reported annual income provided by the borrower during registration\n",
    "* **verification_status**: Indicates if income was verified by LC, not verified, or if the income source was verified\n",
    "* **purpose**: A category provided by the borrower for the loan request\n",
    "* **dti**: A ratio calculated using the borrower’s total monthly debt payments on the total debt obligations, excluding mortgage and the requested LC loan, divided by the borrower’s self-reported monthly income\n",
    "* **delinq_2yrs**: The number of 30+ days past-due incidences of delinquency in the borrower's credit file for the past 2 years\n",
    "* **inq_last_6mths**: The number of inquiries in past 6 months (excluding auto and mortgage inquiries)\n",
    "* **open_acc**: The number of open credit lines in the borrower's credit file\n",
    "* **pub_rec**: Number of derogatory public records\n",
    "* **revol_util**: Revolving line utilization rate, or the amount of credit the borrower is using relative to all available revolving credit\n",
    "* **total_acc**: The total number of credit lines currently in the borrower's credit file\n",
    "* **application_type**: Indicates whether the loan is an individual application or a joint application with two co-borrowers\n",
    "* **bc_util**: Ratio of total current balance to high credit/credit limit for all bankcard accounts.\n",
    "* **mo_sin_old_il_acct**: Months since oldest bank installment account opened\n",
    "* **mort_acc**: Number of mortgage accounts\n",
    "* **pub_rec_bankruptcies**: Number of public record bankruptcies\n",
    "* **total_bc_limit**: Total bankcard high credit/credit limit\n",
    "* **total_il_high_credit_limit**: Total installment high credit/credit limit\n",
    "* **emp_years**: Employment length in years\n",
    "* **home_ownership_type**: The home ownership status provided by the borrower during registration or obtained from the credit report. Values are: RENT, OWN, MORTGAGE, OTHER\n",
    "* **region**: The region where borrower lives in\n",
    "* **credit_days**: The days since the borrower's earliest reported credit line was opened"
   ]
  },
  {
   "cell_type": "code",
   "execution_count": 66,
   "metadata": {},
   "outputs": [],
   "source": [
    "df_all.to_pickle('prj3_df_clean.pkl')"
   ]
  },
  {
   "cell_type": "code",
   "execution_count": 67,
   "metadata": {},
   "outputs": [],
   "source": [
    "df = df_all.copy()"
   ]
  },
  {
   "cell_type": "code",
   "execution_count": 68,
   "metadata": {},
   "outputs": [
    {
     "data": {
      "text/html": [
       "<div>\n",
       "<style scoped>\n",
       "    .dataframe tbody tr th:only-of-type {\n",
       "        vertical-align: middle;\n",
       "    }\n",
       "\n",
       "    .dataframe tbody tr th {\n",
       "        vertical-align: top;\n",
       "    }\n",
       "\n",
       "    .dataframe thead th {\n",
       "        text-align: right;\n",
       "    }\n",
       "</style>\n",
       "<table border=\"1\" class=\"dataframe\">\n",
       "  <thead>\n",
       "    <tr style=\"text-align: right;\">\n",
       "      <th></th>\n",
       "      <th>loan_status_bin</th>\n",
       "      <th>loan_amnt</th>\n",
       "      <th>term</th>\n",
       "      <th>int_rate</th>\n",
       "      <th>grade</th>\n",
       "      <th>annual_inc</th>\n",
       "      <th>verification_status</th>\n",
       "      <th>purpose</th>\n",
       "      <th>dti</th>\n",
       "      <th>delinq_2yrs</th>\n",
       "      <th>...</th>\n",
       "      <th>bc_util</th>\n",
       "      <th>mo_sin_old_il_acct</th>\n",
       "      <th>mort_acc</th>\n",
       "      <th>pub_rec_bankruptcies</th>\n",
       "      <th>total_bc_limit</th>\n",
       "      <th>total_il_high_credit_limit</th>\n",
       "      <th>emp_years</th>\n",
       "      <th>home_ownership_type</th>\n",
       "      <th>region</th>\n",
       "      <th>credit_days</th>\n",
       "    </tr>\n",
       "  </thead>\n",
       "  <tbody>\n",
       "    <tr>\n",
       "      <th>52</th>\n",
       "      <td>0</td>\n",
       "      <td>40000.0</td>\n",
       "      <td>60 months</td>\n",
       "      <td>16.14</td>\n",
       "      <td>C</td>\n",
       "      <td>45000.0</td>\n",
       "      <td>Verified</td>\n",
       "      <td>credit_card</td>\n",
       "      <td>50.53</td>\n",
       "      <td>0.0</td>\n",
       "      <td>...</td>\n",
       "      <td>67.3</td>\n",
       "      <td>114.0</td>\n",
       "      <td>1.0</td>\n",
       "      <td>0.0</td>\n",
       "      <td>45700.0</td>\n",
       "      <td>167965.0</td>\n",
       "      <td>1-5 years</td>\n",
       "      <td>MORTGAGE</td>\n",
       "      <td>MidWest</td>\n",
       "      <td>3632</td>\n",
       "    </tr>\n",
       "    <tr>\n",
       "      <th>98</th>\n",
       "      <td>0</td>\n",
       "      <td>20000.0</td>\n",
       "      <td>36 months</td>\n",
       "      <td>7.56</td>\n",
       "      <td>A</td>\n",
       "      <td>100000.0</td>\n",
       "      <td>Not Verified</td>\n",
       "      <td>credit_card</td>\n",
       "      <td>18.92</td>\n",
       "      <td>0.0</td>\n",
       "      <td>...</td>\n",
       "      <td>29.9</td>\n",
       "      <td>171.0</td>\n",
       "      <td>5.0</td>\n",
       "      <td>0.0</td>\n",
       "      <td>85100.0</td>\n",
       "      <td>74833.0</td>\n",
       "      <td>10+ years</td>\n",
       "      <td>MORTGAGE</td>\n",
       "      <td>West</td>\n",
       "      <td>7405</td>\n",
       "    </tr>\n",
       "    <tr>\n",
       "      <th>126</th>\n",
       "      <td>0</td>\n",
       "      <td>4500.0</td>\n",
       "      <td>36 months</td>\n",
       "      <td>11.31</td>\n",
       "      <td>B</td>\n",
       "      <td>38500.0</td>\n",
       "      <td>Not Verified</td>\n",
       "      <td>credit_card</td>\n",
       "      <td>4.64</td>\n",
       "      <td>0.0</td>\n",
       "      <td>...</td>\n",
       "      <td>28.9</td>\n",
       "      <td>180.0</td>\n",
       "      <td>0.0</td>\n",
       "      <td>0.0</td>\n",
       "      <td>15100.0</td>\n",
       "      <td>24595.0</td>\n",
       "      <td>10+ years</td>\n",
       "      <td>RENT</td>\n",
       "      <td>SouthWest</td>\n",
       "      <td>5641</td>\n",
       "    </tr>\n",
       "    <tr>\n",
       "      <th>147</th>\n",
       "      <td>0</td>\n",
       "      <td>30000.0</td>\n",
       "      <td>36 months</td>\n",
       "      <td>22.35</td>\n",
       "      <td>D</td>\n",
       "      <td>100000.0</td>\n",
       "      <td>Source Verified</td>\n",
       "      <td>debt_consolidation</td>\n",
       "      <td>30.46</td>\n",
       "      <td>0.0</td>\n",
       "      <td>...</td>\n",
       "      <td>46.9</td>\n",
       "      <td>83.0</td>\n",
       "      <td>1.0</td>\n",
       "      <td>1.0</td>\n",
       "      <td>28600.0</td>\n",
       "      <td>101984.0</td>\n",
       "      <td>1-5 years</td>\n",
       "      <td>MORTGAGE</td>\n",
       "      <td>West</td>\n",
       "      <td>2688</td>\n",
       "    </tr>\n",
       "    <tr>\n",
       "      <th>206</th>\n",
       "      <td>0</td>\n",
       "      <td>30000.0</td>\n",
       "      <td>36 months</td>\n",
       "      <td>15.02</td>\n",
       "      <td>C</td>\n",
       "      <td>90000.0</td>\n",
       "      <td>Verified</td>\n",
       "      <td>debt_consolidation</td>\n",
       "      <td>22.23</td>\n",
       "      <td>0.0</td>\n",
       "      <td>...</td>\n",
       "      <td>47.0</td>\n",
       "      <td>123.0</td>\n",
       "      <td>3.0</td>\n",
       "      <td>0.0</td>\n",
       "      <td>41600.0</td>\n",
       "      <td>36249.0</td>\n",
       "      <td>10+ years</td>\n",
       "      <td>RENT</td>\n",
       "      <td>MidWest</td>\n",
       "      <td>4394</td>\n",
       "    </tr>\n",
       "  </tbody>\n",
       "</table>\n",
       "<p>5 rows × 26 columns</p>\n",
       "</div>"
      ],
      "text/plain": [
       "    loan_status_bin  loan_amnt        term  int_rate grade  annual_inc  \\\n",
       "52                0    40000.0   60 months     16.14     C     45000.0   \n",
       "98                0    20000.0   36 months      7.56     A    100000.0   \n",
       "126               0     4500.0   36 months     11.31     B     38500.0   \n",
       "147               0    30000.0   36 months     22.35     D    100000.0   \n",
       "206               0    30000.0   36 months     15.02     C     90000.0   \n",
       "\n",
       "    verification_status             purpose    dti  delinq_2yrs     ...       \\\n",
       "52             Verified         credit_card  50.53          0.0     ...        \n",
       "98         Not Verified         credit_card  18.92          0.0     ...        \n",
       "126        Not Verified         credit_card   4.64          0.0     ...        \n",
       "147     Source Verified  debt_consolidation  30.46          0.0     ...        \n",
       "206            Verified  debt_consolidation  22.23          0.0     ...        \n",
       "\n",
       "     bc_util  mo_sin_old_il_acct  mort_acc  pub_rec_bankruptcies  \\\n",
       "52      67.3               114.0       1.0                   0.0   \n",
       "98      29.9               171.0       5.0                   0.0   \n",
       "126     28.9               180.0       0.0                   0.0   \n",
       "147     46.9                83.0       1.0                   1.0   \n",
       "206     47.0               123.0       3.0                   0.0   \n",
       "\n",
       "     total_bc_limit total_il_high_credit_limit  emp_years  \\\n",
       "52          45700.0                   167965.0  1-5 years   \n",
       "98          85100.0                    74833.0  10+ years   \n",
       "126         15100.0                    24595.0  10+ years   \n",
       "147         28600.0                   101984.0  1-5 years   \n",
       "206         41600.0                    36249.0  10+ years   \n",
       "\n",
       "     home_ownership_type     region  credit_days  \n",
       "52              MORTGAGE    MidWest         3632  \n",
       "98              MORTGAGE       West         7405  \n",
       "126                 RENT  SouthWest         5641  \n",
       "147             MORTGAGE       West         2688  \n",
       "206                 RENT    MidWest         4394  \n",
       "\n",
       "[5 rows x 26 columns]"
      ]
     },
     "execution_count": 68,
     "metadata": {},
     "output_type": "execute_result"
    }
   ],
   "source": [
    "cols = [df.columns[-5]] + [col for col in df if col != df.columns[-5]]\n",
    "df = df[cols]\n",
    "df.head()"
   ]
  },
  {
   "cell_type": "markdown",
   "metadata": {},
   "source": [
    "## **Under Sampling**"
   ]
  },
  {
   "cell_type": "code",
   "execution_count": 69,
   "metadata": {},
   "outputs": [
    {
     "data": {
      "text/plain": [
       "292279"
      ]
     },
     "execution_count": 69,
     "metadata": {},
     "output_type": "execute_result"
    }
   ],
   "source": [
    "# Class count\n",
    "fully_paid_count, default_count = df.loan_status_bin.value_counts()\n",
    "default_count"
   ]
  },
  {
   "cell_type": "code",
   "execution_count": 70,
   "metadata": {},
   "outputs": [],
   "source": [
    "# Divide by class\n",
    "df_class_repaid = df[df['loan_status_bin'] == 0]\n",
    "df_class_default = df[df['loan_status_bin'] == 1]\n",
    "# random sampling\n",
    "df_class_repaid_under = df_class_repaid.sample(default_count)\n",
    "df_under = pd.concat([df_class_repaid_under, df_class_default], axis=0)"
   ]
  },
  {
   "cell_type": "code",
   "execution_count": 71,
   "metadata": {},
   "outputs": [
    {
     "name": "stdout",
     "output_type": "stream",
     "text": [
      "Random under-sampling:\n",
      "1    292279\n",
      "0    292279\n",
      "Name: loan_status_bin, dtype: int64\n"
     ]
    },
    {
     "data": {
      "image/png": "[encoded data removed]",
      "text/plain": [
       "<Figure size 432x288 with 1 Axes>"
      ]
     },
     "metadata": {
      "needs_background": "light"
     },
     "output_type": "display_data"
    }
   ],
   "source": [
    "print('Random under-sampling:')\n",
    "print(df_under.loan_status_bin.value_counts())\n",
    "\n",
    "df_under.loan_status_bin.value_counts().plot(kind='bar', title='Count of Loan Status');"
   ]
  },
  {
   "cell_type": "code",
   "execution_count": 169,
   "metadata": {},
   "outputs": [],
   "source": [
    "#df_under.to_csv('/Users/katiefan/Documents/prj3_df_under.csv')"
   ]
  },
  {
   "cell_type": "markdown",
   "metadata": {},
   "source": [
    "## **Converting Categorical Features to Dummy Features**"
   ]
  },
  {
   "cell_type": "code",
   "execution_count": 72,
   "metadata": {},
   "outputs": [
    {
     "data": {
      "text/html": [
       "<div>\n",
       "<style scoped>\n",
       "    .dataframe tbody tr th:only-of-type {\n",
       "        vertical-align: middle;\n",
       "    }\n",
       "\n",
       "    .dataframe tbody tr th {\n",
       "        vertical-align: top;\n",
       "    }\n",
       "\n",
       "    .dataframe thead th {\n",
       "        text-align: right;\n",
       "    }\n",
       "</style>\n",
       "<table border=\"1\" class=\"dataframe\">\n",
       "  <thead>\n",
       "    <tr style=\"text-align: right;\">\n",
       "      <th></th>\n",
       "      <th>loan_status_bin</th>\n",
       "      <th>loan_amnt</th>\n",
       "      <th>term</th>\n",
       "      <th>int_rate</th>\n",
       "      <th>grade</th>\n",
       "      <th>annual_inc</th>\n",
       "      <th>verification_status</th>\n",
       "      <th>purpose</th>\n",
       "      <th>dti</th>\n",
       "      <th>delinq_2yrs</th>\n",
       "      <th>...</th>\n",
       "      <th>bc_util</th>\n",
       "      <th>mo_sin_old_il_acct</th>\n",
       "      <th>mort_acc</th>\n",
       "      <th>pub_rec_bankruptcies</th>\n",
       "      <th>total_bc_limit</th>\n",
       "      <th>total_il_high_credit_limit</th>\n",
       "      <th>emp_years</th>\n",
       "      <th>home_ownership_type</th>\n",
       "      <th>region</th>\n",
       "      <th>credit_days</th>\n",
       "    </tr>\n",
       "  </thead>\n",
       "  <tbody>\n",
       "    <tr>\n",
       "      <th>395144</th>\n",
       "      <td>0</td>\n",
       "      <td>4200.0</td>\n",
       "      <td>36 months</td>\n",
       "      <td>14.09</td>\n",
       "      <td>6</td>\n",
       "      <td>55000.0</td>\n",
       "      <td>Not Verified</td>\n",
       "      <td>debt_consolidation</td>\n",
       "      <td>25.99</td>\n",
       "      <td>0.0</td>\n",
       "      <td>...</td>\n",
       "      <td>96.9</td>\n",
       "      <td>113.0</td>\n",
       "      <td>5.0</td>\n",
       "      <td>0.0</td>\n",
       "      <td>4000.0</td>\n",
       "      <td>28305.0</td>\n",
       "      <td>1</td>\n",
       "      <td>3</td>\n",
       "      <td>West</td>\n",
       "      <td>7193</td>\n",
       "    </tr>\n",
       "    <tr>\n",
       "      <th>1480566</th>\n",
       "      <td>0</td>\n",
       "      <td>15000.0</td>\n",
       "      <td>36 months</td>\n",
       "      <td>14.42</td>\n",
       "      <td>4</td>\n",
       "      <td>110000.0</td>\n",
       "      <td>Verified</td>\n",
       "      <td>other</td>\n",
       "      <td>6.33</td>\n",
       "      <td>1.0</td>\n",
       "      <td>...</td>\n",
       "      <td>NaN</td>\n",
       "      <td>NaN</td>\n",
       "      <td>NaN</td>\n",
       "      <td>0.0</td>\n",
       "      <td>NaN</td>\n",
       "      <td>NaN</td>\n",
       "      <td>1</td>\n",
       "      <td>2</td>\n",
       "      <td>NorthEast</td>\n",
       "      <td>5671</td>\n",
       "    </tr>\n",
       "    <tr>\n",
       "      <th>1668394</th>\n",
       "      <td>0</td>\n",
       "      <td>15000.0</td>\n",
       "      <td>36 months</td>\n",
       "      <td>11.53</td>\n",
       "      <td>6</td>\n",
       "      <td>85000.0</td>\n",
       "      <td>Verified</td>\n",
       "      <td>credit_card</td>\n",
       "      <td>7.12</td>\n",
       "      <td>0.0</td>\n",
       "      <td>...</td>\n",
       "      <td>97.1</td>\n",
       "      <td>33.0</td>\n",
       "      <td>0.0</td>\n",
       "      <td>0.0</td>\n",
       "      <td>7500.0</td>\n",
       "      <td>12806.0</td>\n",
       "      <td>1</td>\n",
       "      <td>2</td>\n",
       "      <td>SouthEast</td>\n",
       "      <td>2719</td>\n",
       "    </tr>\n",
       "    <tr>\n",
       "      <th>353992</th>\n",
       "      <td>0</td>\n",
       "      <td>7500.0</td>\n",
       "      <td>36 months</td>\n",
       "      <td>10.16</td>\n",
       "      <td>6</td>\n",
       "      <td>85000.0</td>\n",
       "      <td>Not Verified</td>\n",
       "      <td>home_improvement</td>\n",
       "      <td>10.70</td>\n",
       "      <td>0.0</td>\n",
       "      <td>...</td>\n",
       "      <td>36.5</td>\n",
       "      <td>143.0</td>\n",
       "      <td>6.0</td>\n",
       "      <td>0.0</td>\n",
       "      <td>8800.0</td>\n",
       "      <td>43199.0</td>\n",
       "      <td>3</td>\n",
       "      <td>3</td>\n",
       "      <td>SouthEast</td>\n",
       "      <td>7193</td>\n",
       "    </tr>\n",
       "    <tr>\n",
       "      <th>1674395</th>\n",
       "      <td>0</td>\n",
       "      <td>24000.0</td>\n",
       "      <td>36 months</td>\n",
       "      <td>13.99</td>\n",
       "      <td>5</td>\n",
       "      <td>220000.0</td>\n",
       "      <td>Verified</td>\n",
       "      <td>credit_card</td>\n",
       "      <td>25.50</td>\n",
       "      <td>0.0</td>\n",
       "      <td>...</td>\n",
       "      <td>87.0</td>\n",
       "      <td>105.0</td>\n",
       "      <td>3.0</td>\n",
       "      <td>0.0</td>\n",
       "      <td>84800.0</td>\n",
       "      <td>105182.0</td>\n",
       "      <td>1</td>\n",
       "      <td>3</td>\n",
       "      <td>MidWest</td>\n",
       "      <td>11180</td>\n",
       "    </tr>\n",
       "  </tbody>\n",
       "</table>\n",
       "<p>5 rows × 26 columns</p>\n",
       "</div>"
      ],
      "text/plain": [
       "        loan_status_bin  loan_amnt        term  int_rate  grade  annual_inc  \\\n",
       "395144                0     4200.0   36 months     14.09      6     55000.0   \n",
       "1480566               0    15000.0   36 months     14.42      4    110000.0   \n",
       "1668394               0    15000.0   36 months     11.53      6     85000.0   \n",
       "353992                0     7500.0   36 months     10.16      6     85000.0   \n",
       "1674395               0    24000.0   36 months     13.99      5    220000.0   \n",
       "\n",
       "        verification_status             purpose    dti  delinq_2yrs  \\\n",
       "395144         Not Verified  debt_consolidation  25.99          0.0   \n",
       "1480566            Verified               other   6.33          1.0   \n",
       "1668394            Verified         credit_card   7.12          0.0   \n",
       "353992         Not Verified    home_improvement  10.70          0.0   \n",
       "1674395            Verified         credit_card  25.50          0.0   \n",
       "\n",
       "            ...       bc_util  mo_sin_old_il_acct  mort_acc  \\\n",
       "395144      ...          96.9               113.0       5.0   \n",
       "1480566     ...           NaN                 NaN       NaN   \n",
       "1668394     ...          97.1                33.0       0.0   \n",
       "353992      ...          36.5               143.0       6.0   \n",
       "1674395     ...          87.0               105.0       3.0   \n",
       "\n",
       "         pub_rec_bankruptcies  total_bc_limit total_il_high_credit_limit  \\\n",
       "395144                    0.0          4000.0                    28305.0   \n",
       "1480566                   0.0             NaN                        NaN   \n",
       "1668394                   0.0          7500.0                    12806.0   \n",
       "353992                    0.0          8800.0                    43199.0   \n",
       "1674395                   0.0         84800.0                   105182.0   \n",
       "\n",
       "         emp_years  home_ownership_type     region  credit_days  \n",
       "395144           1                    3       West         7193  \n",
       "1480566          1                    2  NorthEast         5671  \n",
       "1668394          1                    2  SouthEast         2719  \n",
       "353992           3                    3  SouthEast         7193  \n",
       "1674395          1                    3    MidWest        11180  \n",
       "\n",
       "[5 rows x 26 columns]"
      ]
     },
     "execution_count": 72,
     "metadata": {},
     "output_type": "execute_result"
    }
   ],
   "source": [
    "# data encoding for categorical features\n",
    "df_under['grade'] = df_under['grade'].map({'A':7,'B':6,'C':5,'D':4,'E':3,'F':2,'G':1})\n",
    "df_under[\"home_ownership_type\"] = df_under[\"home_ownership_type\"].map({'OWN': 4,'MORTGAGE':3,'RENT':2,'OTHER':1})\n",
    "df_under[\"emp_years\"] = df_under[\"emp_years\"].map({'5-10 years':3,'10+ years':2,'1-5 years':1})\n",
    "df_under.head()"
   ]
  },
  {
   "cell_type": "code",
   "execution_count": 73,
   "metadata": {},
   "outputs": [],
   "source": [
    "X = df_under.iloc[:, 1:]\n",
    "y = df_under.iloc[:, 0]\n",
    "y = y.astype('int')"
   ]
  },
  {
   "cell_type": "code",
   "execution_count": 74,
   "metadata": {},
   "outputs": [
    {
     "data": {
      "text/html": [
       "<div>\n",
       "<style scoped>\n",
       "    .dataframe tbody tr th:only-of-type {\n",
       "        vertical-align: middle;\n",
       "    }\n",
       "\n",
       "    .dataframe tbody tr th {\n",
       "        vertical-align: top;\n",
       "    }\n",
       "\n",
       "    .dataframe thead th {\n",
       "        text-align: right;\n",
       "    }\n",
       "</style>\n",
       "<table border=\"1\" class=\"dataframe\">\n",
       "  <thead>\n",
       "    <tr style=\"text-align: right;\">\n",
       "      <th></th>\n",
       "      <th>loan_amnt</th>\n",
       "      <th>int_rate</th>\n",
       "      <th>grade</th>\n",
       "      <th>annual_inc</th>\n",
       "      <th>dti</th>\n",
       "      <th>delinq_2yrs</th>\n",
       "      <th>inq_last_6mths</th>\n",
       "      <th>open_acc</th>\n",
       "      <th>pub_rec</th>\n",
       "      <th>revol_util</th>\n",
       "      <th>...</th>\n",
       "      <th>purpose_small_business</th>\n",
       "      <th>purpose_vacation</th>\n",
       "      <th>purpose_wedding</th>\n",
       "      <th>application_type_Individual</th>\n",
       "      <th>application_type_Joint App</th>\n",
       "      <th>region_MidWest</th>\n",
       "      <th>region_NorthEast</th>\n",
       "      <th>region_SouthEast</th>\n",
       "      <th>region_SouthWest</th>\n",
       "      <th>region_West</th>\n",
       "    </tr>\n",
       "  </thead>\n",
       "  <tbody>\n",
       "    <tr>\n",
       "      <th>395144</th>\n",
       "      <td>4200.0</td>\n",
       "      <td>14.09</td>\n",
       "      <td>6</td>\n",
       "      <td>55000.0</td>\n",
       "      <td>25.99</td>\n",
       "      <td>0.0</td>\n",
       "      <td>0.0</td>\n",
       "      <td>11.0</td>\n",
       "      <td>0.0</td>\n",
       "      <td>90.2</td>\n",
       "      <td>...</td>\n",
       "      <td>0</td>\n",
       "      <td>0</td>\n",
       "      <td>0</td>\n",
       "      <td>1</td>\n",
       "      <td>0</td>\n",
       "      <td>0</td>\n",
       "      <td>0</td>\n",
       "      <td>0</td>\n",
       "      <td>0</td>\n",
       "      <td>1</td>\n",
       "    </tr>\n",
       "    <tr>\n",
       "      <th>1480566</th>\n",
       "      <td>15000.0</td>\n",
       "      <td>14.42</td>\n",
       "      <td>4</td>\n",
       "      <td>110000.0</td>\n",
       "      <td>6.33</td>\n",
       "      <td>1.0</td>\n",
       "      <td>2.0</td>\n",
       "      <td>15.0</td>\n",
       "      <td>0.0</td>\n",
       "      <td>20.3</td>\n",
       "      <td>...</td>\n",
       "      <td>0</td>\n",
       "      <td>0</td>\n",
       "      <td>0</td>\n",
       "      <td>1</td>\n",
       "      <td>0</td>\n",
       "      <td>0</td>\n",
       "      <td>1</td>\n",
       "      <td>0</td>\n",
       "      <td>0</td>\n",
       "      <td>0</td>\n",
       "    </tr>\n",
       "    <tr>\n",
       "      <th>1668394</th>\n",
       "      <td>15000.0</td>\n",
       "      <td>11.53</td>\n",
       "      <td>6</td>\n",
       "      <td>85000.0</td>\n",
       "      <td>7.12</td>\n",
       "      <td>0.0</td>\n",
       "      <td>0.0</td>\n",
       "      <td>7.0</td>\n",
       "      <td>0.0</td>\n",
       "      <td>69.6</td>\n",
       "      <td>...</td>\n",
       "      <td>0</td>\n",
       "      <td>0</td>\n",
       "      <td>0</td>\n",
       "      <td>1</td>\n",
       "      <td>0</td>\n",
       "      <td>0</td>\n",
       "      <td>0</td>\n",
       "      <td>1</td>\n",
       "      <td>0</td>\n",
       "      <td>0</td>\n",
       "    </tr>\n",
       "    <tr>\n",
       "      <th>353992</th>\n",
       "      <td>7500.0</td>\n",
       "      <td>10.16</td>\n",
       "      <td>6</td>\n",
       "      <td>85000.0</td>\n",
       "      <td>10.70</td>\n",
       "      <td>0.0</td>\n",
       "      <td>2.0</td>\n",
       "      <td>8.0</td>\n",
       "      <td>0.0</td>\n",
       "      <td>36.5</td>\n",
       "      <td>...</td>\n",
       "      <td>0</td>\n",
       "      <td>0</td>\n",
       "      <td>0</td>\n",
       "      <td>1</td>\n",
       "      <td>0</td>\n",
       "      <td>0</td>\n",
       "      <td>0</td>\n",
       "      <td>1</td>\n",
       "      <td>0</td>\n",
       "      <td>0</td>\n",
       "    </tr>\n",
       "    <tr>\n",
       "      <th>1674395</th>\n",
       "      <td>24000.0</td>\n",
       "      <td>13.99</td>\n",
       "      <td>5</td>\n",
       "      <td>220000.0</td>\n",
       "      <td>25.50</td>\n",
       "      <td>0.0</td>\n",
       "      <td>3.0</td>\n",
       "      <td>34.0</td>\n",
       "      <td>0.0</td>\n",
       "      <td>81.0</td>\n",
       "      <td>...</td>\n",
       "      <td>0</td>\n",
       "      <td>0</td>\n",
       "      <td>0</td>\n",
       "      <td>1</td>\n",
       "      <td>0</td>\n",
       "      <td>1</td>\n",
       "      <td>0</td>\n",
       "      <td>0</td>\n",
       "      <td>0</td>\n",
       "      <td>0</td>\n",
       "    </tr>\n",
       "  </tbody>\n",
       "</table>\n",
       "<p>5 rows × 46 columns</p>\n",
       "</div>"
      ],
      "text/plain": [
       "         loan_amnt  int_rate  grade  annual_inc    dti  delinq_2yrs  \\\n",
       "395144      4200.0     14.09      6     55000.0  25.99          0.0   \n",
       "1480566    15000.0     14.42      4    110000.0   6.33          1.0   \n",
       "1668394    15000.0     11.53      6     85000.0   7.12          0.0   \n",
       "353992      7500.0     10.16      6     85000.0  10.70          0.0   \n",
       "1674395    24000.0     13.99      5    220000.0  25.50          0.0   \n",
       "\n",
       "         inq_last_6mths  open_acc  pub_rec  revol_util     ...       \\\n",
       "395144              0.0      11.0      0.0        90.2     ...        \n",
       "1480566             2.0      15.0      0.0        20.3     ...        \n",
       "1668394             0.0       7.0      0.0        69.6     ...        \n",
       "353992              2.0       8.0      0.0        36.5     ...        \n",
       "1674395             3.0      34.0      0.0        81.0     ...        \n",
       "\n",
       "         purpose_small_business  purpose_vacation  purpose_wedding  \\\n",
       "395144                        0                 0                0   \n",
       "1480566                       0                 0                0   \n",
       "1668394                       0                 0                0   \n",
       "353992                        0                 0                0   \n",
       "1674395                       0                 0                0   \n",
       "\n",
       "         application_type_Individual  application_type_Joint App  \\\n",
       "395144                             1                           0   \n",
       "1480566                            1                           0   \n",
       "1668394                            1                           0   \n",
       "353992                             1                           0   \n",
       "1674395                            1                           0   \n",
       "\n",
       "         region_MidWest  region_NorthEast  region_SouthEast  region_SouthWest  \\\n",
       "395144                0                 0                 0                 0   \n",
       "1480566               0                 1                 0                 0   \n",
       "1668394               0                 0                 1                 0   \n",
       "353992                0                 0                 1                 0   \n",
       "1674395               1                 0                 0                 0   \n",
       "\n",
       "         region_West  \n",
       "395144             1  \n",
       "1480566            0  \n",
       "1668394            0  \n",
       "353992             0  \n",
       "1674395            0  \n",
       "\n",
       "[5 rows x 46 columns]"
      ]
     },
     "execution_count": 74,
     "metadata": {},
     "output_type": "execute_result"
    }
   ],
   "source": [
    "X_dum = pd.get_dummies(X)\n",
    "X_dum.head()"
   ]
  },
  {
   "cell_type": "code",
   "execution_count": 75,
   "metadata": {},
   "outputs": [],
   "source": [
    "X_dum.to_pickle('prj3_X_dum.pkl')\n",
    "y.to_pickle('prj3_y.pkl')"
   ]
  },
  {
   "cell_type": "markdown",
   "metadata": {},
   "source": [
    "## **Training Test Sets Spliting**"
   ]
  },
  {
   "cell_type": "code",
   "execution_count": 76,
   "metadata": {},
   "outputs": [],
   "source": [
    "X_train, X_test, y_train, y_test = train_test_split(X_dum, y, test_size=0.2, random_state=42)"
   ]
  },
  {
   "cell_type": "code",
   "execution_count": 77,
   "metadata": {},
   "outputs": [
    {
     "data": {
      "text/html": [
       "<div>\n",
       "<style scoped>\n",
       "    .dataframe tbody tr th:only-of-type {\n",
       "        vertical-align: middle;\n",
       "    }\n",
       "\n",
       "    .dataframe tbody tr th {\n",
       "        vertical-align: top;\n",
       "    }\n",
       "\n",
       "    .dataframe thead th {\n",
       "        text-align: right;\n",
       "    }\n",
       "</style>\n",
       "<table border=\"1\" class=\"dataframe\">\n",
       "  <thead>\n",
       "    <tr style=\"text-align: right;\">\n",
       "      <th></th>\n",
       "      <th>loan_amnt</th>\n",
       "      <th>int_rate</th>\n",
       "      <th>grade</th>\n",
       "      <th>annual_inc</th>\n",
       "      <th>dti</th>\n",
       "      <th>delinq_2yrs</th>\n",
       "      <th>inq_last_6mths</th>\n",
       "      <th>open_acc</th>\n",
       "      <th>pub_rec</th>\n",
       "      <th>revol_util</th>\n",
       "      <th>...</th>\n",
       "      <th>purpose_small_business</th>\n",
       "      <th>purpose_vacation</th>\n",
       "      <th>purpose_wedding</th>\n",
       "      <th>application_type_Individual</th>\n",
       "      <th>application_type_Joint App</th>\n",
       "      <th>region_MidWest</th>\n",
       "      <th>region_NorthEast</th>\n",
       "      <th>region_SouthEast</th>\n",
       "      <th>region_SouthWest</th>\n",
       "      <th>region_West</th>\n",
       "    </tr>\n",
       "  </thead>\n",
       "  <tbody>\n",
       "    <tr>\n",
       "      <th>957258</th>\n",
       "      <td>24000.0</td>\n",
       "      <td>12.99</td>\n",
       "      <td>5</td>\n",
       "      <td>75000.0</td>\n",
       "      <td>20.67</td>\n",
       "      <td>0.0</td>\n",
       "      <td>0.0</td>\n",
       "      <td>11.0</td>\n",
       "      <td>1.0</td>\n",
       "      <td>56.4</td>\n",
       "      <td>...</td>\n",
       "      <td>0</td>\n",
       "      <td>0</td>\n",
       "      <td>0</td>\n",
       "      <td>1</td>\n",
       "      <td>0</td>\n",
       "      <td>0</td>\n",
       "      <td>1</td>\n",
       "      <td>0</td>\n",
       "      <td>0</td>\n",
       "      <td>0</td>\n",
       "    </tr>\n",
       "    <tr>\n",
       "      <th>389568</th>\n",
       "      <td>24000.0</td>\n",
       "      <td>11.14</td>\n",
       "      <td>6</td>\n",
       "      <td>80000.0</td>\n",
       "      <td>18.68</td>\n",
       "      <td>0.0</td>\n",
       "      <td>1.0</td>\n",
       "      <td>16.0</td>\n",
       "      <td>0.0</td>\n",
       "      <td>79.9</td>\n",
       "      <td>...</td>\n",
       "      <td>0</td>\n",
       "      <td>0</td>\n",
       "      <td>0</td>\n",
       "      <td>1</td>\n",
       "      <td>0</td>\n",
       "      <td>1</td>\n",
       "      <td>0</td>\n",
       "      <td>0</td>\n",
       "      <td>0</td>\n",
       "      <td>0</td>\n",
       "    </tr>\n",
       "    <tr>\n",
       "      <th>1472038</th>\n",
       "      <td>1600.0</td>\n",
       "      <td>13.23</td>\n",
       "      <td>5</td>\n",
       "      <td>86000.0</td>\n",
       "      <td>13.40</td>\n",
       "      <td>0.0</td>\n",
       "      <td>1.0</td>\n",
       "      <td>6.0</td>\n",
       "      <td>0.0</td>\n",
       "      <td>85.0</td>\n",
       "      <td>...</td>\n",
       "      <td>0</td>\n",
       "      <td>0</td>\n",
       "      <td>0</td>\n",
       "      <td>1</td>\n",
       "      <td>0</td>\n",
       "      <td>0</td>\n",
       "      <td>0</td>\n",
       "      <td>0</td>\n",
       "      <td>0</td>\n",
       "      <td>1</td>\n",
       "    </tr>\n",
       "    <tr>\n",
       "      <th>431379</th>\n",
       "      <td>12800.0</td>\n",
       "      <td>12.12</td>\n",
       "      <td>6</td>\n",
       "      <td>75000.0</td>\n",
       "      <td>14.78</td>\n",
       "      <td>0.0</td>\n",
       "      <td>0.0</td>\n",
       "      <td>13.0</td>\n",
       "      <td>0.0</td>\n",
       "      <td>66.3</td>\n",
       "      <td>...</td>\n",
       "      <td>0</td>\n",
       "      <td>0</td>\n",
       "      <td>0</td>\n",
       "      <td>1</td>\n",
       "      <td>0</td>\n",
       "      <td>0</td>\n",
       "      <td>0</td>\n",
       "      <td>0</td>\n",
       "      <td>0</td>\n",
       "      <td>1</td>\n",
       "    </tr>\n",
       "    <tr>\n",
       "      <th>778234</th>\n",
       "      <td>20000.0</td>\n",
       "      <td>6.99</td>\n",
       "      <td>7</td>\n",
       "      <td>87400.0</td>\n",
       "      <td>18.55</td>\n",
       "      <td>0.0</td>\n",
       "      <td>0.0</td>\n",
       "      <td>18.0</td>\n",
       "      <td>0.0</td>\n",
       "      <td>22.3</td>\n",
       "      <td>...</td>\n",
       "      <td>0</td>\n",
       "      <td>0</td>\n",
       "      <td>0</td>\n",
       "      <td>1</td>\n",
       "      <td>0</td>\n",
       "      <td>1</td>\n",
       "      <td>0</td>\n",
       "      <td>0</td>\n",
       "      <td>0</td>\n",
       "      <td>0</td>\n",
       "    </tr>\n",
       "  </tbody>\n",
       "</table>\n",
       "<p>5 rows × 46 columns</p>\n",
       "</div>"
      ],
      "text/plain": [
       "         loan_amnt  int_rate  grade  annual_inc    dti  delinq_2yrs  \\\n",
       "957258     24000.0     12.99      5     75000.0  20.67          0.0   \n",
       "389568     24000.0     11.14      6     80000.0  18.68          0.0   \n",
       "1472038     1600.0     13.23      5     86000.0  13.40          0.0   \n",
       "431379     12800.0     12.12      6     75000.0  14.78          0.0   \n",
       "778234     20000.0      6.99      7     87400.0  18.55          0.0   \n",
       "\n",
       "         inq_last_6mths  open_acc  pub_rec  revol_util     ...       \\\n",
       "957258              0.0      11.0      1.0        56.4     ...        \n",
       "389568              1.0      16.0      0.0        79.9     ...        \n",
       "1472038             1.0       6.0      0.0        85.0     ...        \n",
       "431379              0.0      13.0      0.0        66.3     ...        \n",
       "778234              0.0      18.0      0.0        22.3     ...        \n",
       "\n",
       "         purpose_small_business  purpose_vacation  purpose_wedding  \\\n",
       "957258                        0                 0                0   \n",
       "389568                        0                 0                0   \n",
       "1472038                       0                 0                0   \n",
       "431379                        0                 0                0   \n",
       "778234                        0                 0                0   \n",
       "\n",
       "         application_type_Individual  application_type_Joint App  \\\n",
       "957258                             1                           0   \n",
       "389568                             1                           0   \n",
       "1472038                            1                           0   \n",
       "431379                             1                           0   \n",
       "778234                             1                           0   \n",
       "\n",
       "         region_MidWest  region_NorthEast  region_SouthEast  region_SouthWest  \\\n",
       "957258                0                 1                 0                 0   \n",
       "389568                1                 0                 0                 0   \n",
       "1472038               0                 0                 0                 0   \n",
       "431379                0                 0                 0                 0   \n",
       "778234                1                 0                 0                 0   \n",
       "\n",
       "         region_West  \n",
       "957258             0  \n",
       "389568             0  \n",
       "1472038            1  \n",
       "431379             1  \n",
       "778234             0  \n",
       "\n",
       "[5 rows x 46 columns]"
      ]
     },
     "execution_count": 77,
     "metadata": {},
     "output_type": "execute_result"
    }
   ],
   "source": [
    "X_train.head()"
   ]
  },
  {
   "cell_type": "markdown",
   "metadata": {},
   "source": [
    "## **Standard Scaling & Missing Value Imputing**"
   ]
  },
  {
   "cell_type": "code",
   "execution_count": 79,
   "metadata": {},
   "outputs": [],
   "source": [
    "# Create an imputer object with a median filling strategy\n",
    "imputer = Imputer(strategy='median')\n",
    "\n",
    "# Train on the training features\n",
    "imputer.fit(X_train)\n",
    "\n",
    "# Transform both training and testing data\n",
    "X_train = pd.DataFrame(imputer.transform(X_train), columns=X_train.columns)\n",
    "X_test = pd.DataFrame(imputer.transform(X_test), columns=X_test.columns)"
   ]
  },
  {
   "cell_type": "code",
   "execution_count": 80,
   "metadata": {},
   "outputs": [],
   "source": [
    "# Create an imputer object with a median filling strategy\n",
    "scaler = StandardScaler()\n",
    "\n",
    "# Train on the training features\n",
    "scaler.fit(X_train)\n",
    "\n",
    "# Transform both training and testing data\n",
    "X_train = pd.DataFrame(scaler.transform(X_train), columns=X_train.columns)\n",
    "X_test = pd.DataFrame(scaler.transform(X_test), columns=X_test.columns)"
   ]
  },
  {
   "cell_type": "code",
   "execution_count": 81,
   "metadata": {},
   "outputs": [],
   "source": [
    "X_train.to_pickle('prj3_X_train.pkl')\n",
    "X_test.to_pickle('prj3_X_test.pkl')\n",
    "y_train.to_pickle('prj3_y_train.pkl')\n",
    "y_test.to_pickle('prj3_y_test.pkl')"
   ]
  },
  {
   "cell_type": "markdown",
   "metadata": {},
   "source": [
    "### **Feature Selection using RFE (Recursive Feature Elimination)**"
   ]
  },
  {
   "cell_type": "code",
   "execution_count": 92,
   "metadata": {},
   "outputs": [
    {
     "name": "stdout",
     "output_type": "stream",
     "text": [
      "[ True  True  True  True  True False False  True False False False False\n",
      " False  True False  True False False False False  True  True False False\n",
      " False False False False False False False False False False False False\n",
      " False False False False False False False False False False]\n",
      "[ 1  1  1  1  1  6  4  1  8 22  2 29 28  1 17  1  7 12  5 11  1  1  3 21\n",
      " 27 23 14 15 36 34 37 33 25 30 31 35 10 32 16 13 24 26 18 19 20  9]\n",
      "Index(['loan_amnt', 'int_rate', 'grade', 'annual_inc', 'dti', 'open_acc',\n",
      "       'mort_acc', 'total_bc_limit', 'term_ 36 months', 'term_ 60 months'],\n",
      "      dtype='object')\n"
     ]
    }
   ],
   "source": [
    "# # try logistic regression with RFE\n",
    "# clf_LR = LogisticRegression()\n",
    "# rfe = RFE(clf_LR, 10)\n",
    "# res = rfe.fit(X_train, y_train)\n",
    "# # summarize the selection of the attributes\n",
    "# print(res.support_)\n",
    "# print(res.ranking_)\n",
    "# print(X_train.columns[res.support_])"
   ]
  },
  {
   "cell_type": "code",
   "execution_count": 93,
   "metadata": {},
   "outputs": [
    {
     "name": "stdout",
     "output_type": "stream",
     "text": [
      "accuracy score: 0.6465290132749418\n",
      "AUC: 0.7029006975591191\n"
     ]
    }
   ],
   "source": [
    "# probs = rfe.predict_proba(X_test)\n",
    "# predicted = rfe.predict(X_test)\n",
    "# accuracy = accuracy_score(y_test, predicted)\n",
    "# print('accuracy score:', accuracy)\n",
    "# auc = metrics.roc_auc_score(y_test, probs[:, 1])\n",
    "# print('AUC:', auc)"
   ]
  },
  {
   "cell_type": "code",
   "execution_count": 94,
   "metadata": {},
   "outputs": [
    {
     "name": "stdout",
     "output_type": "stream",
     "text": [
      "accuracy score: 0.6490351717531134\n",
      "AUC: 0.7071856854736803\n"
     ]
    }
   ],
   "source": [
    "# # Logistic Regression with all features\n",
    "# model1 = LogisticRegression()\n",
    "# model1.fit(X_train, y_train)\n",
    "# probs = model1.predict_proba(X_test)\n",
    "# predicted = model1.predict(X_test)\n",
    "# accuracy1 = accuracy_score(y_test, predicted)\n",
    "# print('accuracy score:', accuracy1)\n",
    "# auc1 = metrics.roc_auc_score(y_test, probs[:, 1])\n",
    "# print('AUC:', auc1)"
   ]
  },
  {
   "cell_type": "markdown",
   "metadata": {},
   "source": [
    "### **Feature Selection using PCA**"
   ]
  },
  {
   "cell_type": "code",
   "execution_count": 95,
   "metadata": {},
   "outputs": [
    {
     "name": "stdout",
     "output_type": "stream",
     "text": [
      "Expected Variance is [0.0778043  0.06853041 0.04543362 0.04266128 0.04000653]\n"
     ]
    }
   ],
   "source": [
    "# # try PCA(Principal Component Analysis)\n",
    "\n",
    "# pca = PCA(n_components=5, whiten=True)\n",
    "# X_train_pca = pca.fit_transform(X_train)\n",
    "# X_test_pca = pca.transform(X_test)\n",
    "# explained_variance = pca.explained_variance_ratio_\n",
    "# print('Expected Variance is '+ str(explained_variance))"
   ]
  }
 ],
 "metadata": {
  "kernelspec": {
   "display_name": "metis",
   "language": "python",
   "name": "metis"
  },
  "language_info": {
   "codemirror_mode": {
    "name": "ipython",
    "version": 3
   },
   "file_extension": ".py",
   "mimetype": "text/x-python",
   "name": "python",
   "nbconvert_exporter": "python",
   "pygments_lexer": "ipython3",
   "version": "3.7.1"
  }
 },
 "nbformat": 4,
 "nbformat_minor": 2
}
